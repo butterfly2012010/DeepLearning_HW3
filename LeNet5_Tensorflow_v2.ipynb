{
 "cells": [
  {
   "cell_type": "code",
   "execution_count": 1,
   "metadata": {},
   "outputs": [
    {
     "name": "stdout",
     "output_type": "stream",
     "text": [
      "2.6.2\n"
     ]
    }
   ],
   "source": [
    "# import pickle\n",
    "import json  # 存loss, acc\n",
    "# import random\n",
    "import timeit\n",
    "import numpy as np\n",
    "import matplotlib.pyplot as plt\n",
    "from abc import ABCMeta, abstractmethod\n",
    "#################################################\n",
    "import cv2\n",
    "# import matplotlib.pyplot as plt\n",
    "# import math\n",
    "\n",
    "import os\n",
    "import multiprocessing as mp\n",
    "from tqdm import tqdm\n",
    "# import time\n",
    "#################################################\n",
    "# import torch\n",
    "# import torch.nn as nn\n",
    "# # import torch.nn.functional as F\n",
    "# import torch.optim as optim\n",
    "# from torch.utils.data import TensorDataset, DataLoader\n",
    "#################################################\n",
    "import tensorflow as tf\n",
    "# import tensorflow_addons as tfa\n",
    "from model_profiler import model_profiler\n",
    "from tensorflow.keras import layers\n",
    "# from tensorflow.keras import losses\n",
    "# from tensorflow.keras import optimizers\n",
    "# from tensorflow.keras import metrics\n",
    "from tensorflow.data import Dataset\n",
    "print(tf.__version__)"
   ]
  },
  {
   "cell_type": "code",
   "execution_count": 2,
   "metadata": {},
   "outputs": [],
   "source": [
    "# print(\"# cpus: \", os.cpu_count())\n",
    "NUM_PROCESSES = 8"
   ]
  },
  {
   "cell_type": "code",
   "execution_count": 3,
   "metadata": {},
   "outputs": [
    {
     "name": "stderr",
     "output_type": "stream",
     "text": [
      "100%|██████████| 63325/63325 [00:01<00:00, 31990.20it/s]\n",
      "100%|██████████| 450/450 [00:00<00:00, 41866.75it/s]\n",
      "100%|██████████| 450/450 [00:00<00:00, 34446.68it/s]\n"
     ]
    },
    {
     "name": "stdout",
     "output_type": "stream",
     "text": [
      "(63325, 3, 32, 32)\n",
      "(450, 3, 32, 32)\n",
      "(450, 3, 32, 32)\n",
      "\n",
      "(63325,)\n",
      "(450,)\n",
      "(450,)\n"
     ]
    }
   ],
   "source": [
    "resized_train_imgs = np.load(file=\"./data/resized_train_imgs.npy\")\n",
    "resized_val_imgs = np.load(file=\"./data/resized_val_imgs.npy\")\n",
    "resized_test_imgs = np.load(file=\"./data/resized_test_imgs.npy\")\n",
    "train_label = np.load(file=\"./data/train_label.npy\")\n",
    "val_label = np.load(file=\"./data/val_label.npy\")\n",
    "test_label = np.load(file=\"./data/test_label.npy\")\n",
    "\n",
    "def MoveColorChannel(image: np.ndarray) -> np.ndarray:\n",
    "    return np.moveaxis(image, source=2, destination=0)  # reshape (H, W, C) to (C, H, W)\n",
    "\n",
    "with mp.Pool(processes=NUM_PROCESSES) as pool:\n",
    "    resized_train_imgs = pool.map(MoveColorChannel, tqdm(resized_train_imgs))\n",
    "    resized_val_imgs = pool.map(MoveColorChannel, tqdm(resized_val_imgs))\n",
    "    resized_test_imgs = pool.map(MoveColorChannel, tqdm(resized_test_imgs))\n",
    "\n",
    "# convert list to numpy.ndarray\n",
    "resized_train_imgs = np.array(resized_train_imgs)\n",
    "resized_val_imgs = np.array(resized_val_imgs)\n",
    "resized_test_imgs = np.array(resized_test_imgs)\n",
    "# list to numpy.ndarray\n",
    "train_label = np.array(train_label)\n",
    "val_label = np.array(val_label)\n",
    "test_label = np.array(test_label)\n",
    "# check the shape\n",
    "print(resized_train_imgs.shape)\n",
    "print(resized_val_imgs.shape)\n",
    "print(resized_test_imgs.shape)\n",
    "print()\n",
    "print(train_label.shape)\n",
    "print(val_label.shape)\n",
    "print(test_label.shape)\n",
    "\n",
    "X_train, Y_train, X_val, Y_val, X_test, Y_test = resized_train_imgs, train_label, \\\n",
    "                                                 resized_val_imgs, val_label, \\\n",
    "                                                 resized_test_imgs, test_label\n",
    "# normalization\n",
    "X_train, X_val, X_test = X_train/float(255), X_val/float(255), X_test/float(255)\n",
    "X_train -= np.mean(X_train)\n",
    "X_val -= np.mean(X_val)\n",
    "X_test -= np.mean(X_test)\n",
    "\n",
    "def MakeOneHot(Y, D_out):\n",
    "    N = Y.shape[0]\n",
    "    Z = np.zeros((N, D_out))\n",
    "    Z[np.arange(N), Y] = 1\n",
    "    return Z\n",
    "\n",
    "Y_train = MakeOneHot(Y_train, 50)\n",
    "Y_val = MakeOneHot(Y_val, 50)\n",
    "Y_test = MakeOneHot(Y_test, 50)"
   ]
  },
  {
   "cell_type": "code",
   "execution_count": 4,
   "metadata": {},
   "outputs": [],
   "source": [
    "# train_dataset = Dataset.from_tensor_slices((X_train, Y_train)).shuffle(buffer_size=100, seed=42)\n",
    "# val_dataset = Dataset.from_tensor_slices((X_val, Y_val)).shuffle(buffer_size=100, seed=42)\n",
    "# test_dataset = Dataset.from_tensor_slices((X_test, Y_test)).shuffle(buffer_size=100, seed=42)\n",
    "BATCH_SIZE = 64\n",
    "# train_dataloader = train_dataset.batch(BATCH_SIZE)\n",
    "# val_dataloader = val_dataset.batch(BATCH_SIZE)\n",
    "# test_dataloader = test_dataset.batch(BATCH_SIZE)"
   ]
  },
  {
   "cell_type": "code",
   "execution_count": 5,
   "metadata": {},
   "outputs": [
    {
     "name": "stdout",
     "output_type": "stream",
     "text": [
      "Model: \"sequential\"\n",
      "_________________________________________________________________\n",
      "Layer (type)                 Output Shape              Param #   \n",
      "=================================================================\n",
      "conv2d (Conv2D)              (None, 6, 28, 28)         456       \n",
      "_________________________________________________________________\n",
      "max_pooling2d (MaxPooling2D) (None, 6, 14, 14)         0         \n",
      "_________________________________________________________________\n",
      "conv2d_1 (Conv2D)            (None, 16, 10, 10)        2416      \n",
      "_________________________________________________________________\n",
      "max_pooling2d_1 (MaxPooling2 (None, 16, 5, 5)          0         \n",
      "_________________________________________________________________\n",
      "flatten (Flatten)            (None, 400)               0         \n",
      "_________________________________________________________________\n",
      "dense (Dense)                (None, 120)               48120     \n",
      "_________________________________________________________________\n",
      "dense_1 (Dense)              (None, 84)                10164     \n",
      "_________________________________________________________________\n",
      "dense_2 (Dense)              (None, 50)                4250      \n",
      "=================================================================\n",
      "Total params: 65,406\n",
      "Trainable params: 65,406\n",
      "Non-trainable params: 0\n",
      "_________________________________________________________________\n"
     ]
    }
   ],
   "source": [
    "# Define the LeNet-5 model\n",
    "def lenet5():\n",
    "    model = tf.keras.Sequential()\n",
    "\n",
    "    model.add(layers.Conv2D(6, kernel_size=5, strides=1, data_format='channels_first', activation='relu', input_shape=(3, 32, 32)))\n",
    "    model.add(layers.MaxPooling2D(pool_size=2, strides=2, data_format='channels_first'))\n",
    "\n",
    "    model.add(layers.Conv2D(16, kernel_size=5, strides=1, data_format='channels_first', activation='relu'))\n",
    "    model.add(layers.MaxPooling2D(pool_size=2, strides=2, data_format='channels_first'))\n",
    "\n",
    "    model.add(layers.Flatten())\n",
    "\n",
    "    model.add(layers.Dense(120, activation='relu'))\n",
    "    model.add(layers.Dense(84, activation='relu'))\n",
    "    model.add(layers.Dense(50, activation='softmax'))\n",
    "\n",
    "    return model\n",
    "\n",
    "# Create an instance of the LeNet-5 model\n",
    "model = lenet5()\n",
    "\n",
    "# Print the model summary\n",
    "model.summary()\n"
   ]
  },
  {
   "cell_type": "code",
   "execution_count": 6,
   "metadata": {},
   "outputs": [
    {
     "name": "stdout",
     "output_type": "stream",
     "text": [
      "Epoch 1/30\n",
      "990/990 [==============================] - 19s 15ms/step - loss: 3.4926 - accuracy: 0.0904 - val_loss: 3.3249 - val_accuracy: 0.1133\n",
      "Epoch 2/30\n",
      "990/990 [==============================] - 16s 16ms/step - loss: 3.1300 - accuracy: 0.1652 - val_loss: 3.1358 - val_accuracy: 0.1556\n",
      "Epoch 3/30\n",
      "990/990 [==============================] - 15s 15ms/step - loss: 2.9977 - accuracy: 0.1929 - val_loss: 3.0277 - val_accuracy: 0.1733\n",
      "Epoch 4/30\n",
      "990/990 [==============================] - 14s 14ms/step - loss: 2.9203 - accuracy: 0.2090 - val_loss: 2.9480 - val_accuracy: 0.2022\n",
      "Epoch 5/30\n",
      "990/990 [==============================] - 14s 14ms/step - loss: 2.8544 - accuracy: 0.2243 - val_loss: 2.9145 - val_accuracy: 0.2178\n",
      "Epoch 6/30\n",
      "990/990 [==============================] - 14s 14ms/step - loss: 2.8037 - accuracy: 0.2369 - val_loss: 2.9154 - val_accuracy: 0.1822\n",
      "Epoch 7/30\n",
      "990/990 [==============================] - 16s 16ms/step - loss: 2.7624 - accuracy: 0.2467 - val_loss: 2.8830 - val_accuracy: 0.2156\n",
      "Epoch 8/30\n",
      "990/990 [==============================] - 14s 14ms/step - loss: 2.7242 - accuracy: 0.2561 - val_loss: 2.8713 - val_accuracy: 0.1933\n",
      "Epoch 9/30\n",
      "990/990 [==============================] - 15s 16ms/step - loss: 2.6887 - accuracy: 0.2649 - val_loss: 2.8757 - val_accuracy: 0.2067\n",
      "Epoch 10/30\n",
      "990/990 [==============================] - 14s 14ms/step - loss: 2.6617 - accuracy: 0.2689 - val_loss: 2.9025 - val_accuracy: 0.2333\n",
      "Epoch 11/30\n",
      "990/990 [==============================] - 15s 15ms/step - loss: 2.6278 - accuracy: 0.2783 - val_loss: 2.8998 - val_accuracy: 0.2156\n",
      "Epoch 12/30\n",
      "990/990 [==============================] - 14s 14ms/step - loss: 2.6015 - accuracy: 0.2845 - val_loss: 2.8643 - val_accuracy: 0.2067\n",
      "Epoch 13/30\n",
      "990/990 [==============================] - 14s 15ms/step - loss: 2.5760 - accuracy: 0.2880 - val_loss: 2.8694 - val_accuracy: 0.2289\n",
      "Epoch 14/30\n",
      "990/990 [==============================] - 16s 16ms/step - loss: 2.5526 - accuracy: 0.2938 - val_loss: 2.8994 - val_accuracy: 0.2111\n",
      "Epoch 15/30\n",
      "990/990 [==============================] - 14s 14ms/step - loss: 2.5308 - accuracy: 0.2989 - val_loss: 2.8526 - val_accuracy: 0.2222\n",
      "Epoch 16/30\n",
      "990/990 [==============================] - 15s 16ms/step - loss: 2.5093 - accuracy: 0.3052 - val_loss: 2.8734 - val_accuracy: 0.2244\n",
      "Epoch 17/30\n",
      "990/990 [==============================] - 14s 14ms/step - loss: 2.4878 - accuracy: 0.3095 - val_loss: 2.8624 - val_accuracy: 0.2311\n",
      "Epoch 18/30\n",
      "990/990 [==============================] - 15s 15ms/step - loss: 2.4752 - accuracy: 0.3119 - val_loss: 2.9124 - val_accuracy: 0.2289\n",
      "Epoch 19/30\n",
      "990/990 [==============================] - 15s 15ms/step - loss: 2.4543 - accuracy: 0.3165 - val_loss: 2.8765 - val_accuracy: 0.2311\n",
      "Epoch 20/30\n",
      "990/990 [==============================] - 14s 14ms/step - loss: 2.4385 - accuracy: 0.3221 - val_loss: 2.9659 - val_accuracy: 0.1911\n",
      "Epoch 21/30\n",
      "990/990 [==============================] - 15s 16ms/step - loss: 2.4224 - accuracy: 0.3222 - val_loss: 2.9065 - val_accuracy: 0.2333\n",
      "Epoch 22/30\n",
      "990/990 [==============================] - 14s 14ms/step - loss: 2.4060 - accuracy: 0.3275 - val_loss: 2.9532 - val_accuracy: 0.2111\n",
      "Epoch 23/30\n",
      "990/990 [==============================] - 15s 15ms/step - loss: 2.3917 - accuracy: 0.3311 - val_loss: 2.9001 - val_accuracy: 0.2289\n",
      "Epoch 24/30\n",
      "990/990 [==============================] - 14s 14ms/step - loss: 2.3763 - accuracy: 0.3360 - val_loss: 2.9105 - val_accuracy: 0.2133\n",
      "Epoch 25/30\n",
      "990/990 [==============================] - 14s 14ms/step - loss: 2.3655 - accuracy: 0.3371 - val_loss: 2.9939 - val_accuracy: 0.2489\n",
      "Epoch 26/30\n",
      "990/990 [==============================] - 16s 16ms/step - loss: 2.3516 - accuracy: 0.3395 - val_loss: 2.9614 - val_accuracy: 0.2378\n",
      "Epoch 27/30\n",
      "990/990 [==============================] - 14s 14ms/step - loss: 2.3411 - accuracy: 0.3447 - val_loss: 2.9632 - val_accuracy: 0.2533\n",
      "Epoch 28/30\n",
      "990/990 [==============================] - 16s 16ms/step - loss: 2.3270 - accuracy: 0.3461 - val_loss: 2.9985 - val_accuracy: 0.2311\n",
      "Epoch 29/30\n",
      "990/990 [==============================] - 15s 15ms/step - loss: 2.3145 - accuracy: 0.3497 - val_loss: 3.0126 - val_accuracy: 0.2244\n",
      "Epoch 30/30\n",
      "990/990 [==============================] - 14s 14ms/step - loss: 2.3034 - accuracy: 0.3507 - val_loss: 3.0359 - val_accuracy: 0.2378\n"
     ]
    }
   ],
   "source": [
    "# Compile the model\n",
    "model.compile(optimizer=tf.keras.optimizers.Adam(learning_rate=1e-3),\n",
    "              loss=tf.keras.losses.CategoricalCrossentropy(),\n",
    "              metrics=['accuracy'])\n",
    "\n",
    "# history = model.fit(train_dataloader, epochs=30, validation_data=val_dataloader, workers=8, use_multiprocessing=True)\n",
    "history = model.fit(X_train, Y_train, batch_size=64, epochs=30, validation_data=(X_val, Y_val), validation_batch_size=64, workers=8, use_multiprocessing=True)"
   ]
  },
  {
   "cell_type": "code",
   "execution_count": 7,
   "metadata": {},
   "outputs": [
    {
     "name": "stdout",
     "output_type": "stream",
     "text": [
      "INFO:tensorflow:Assets written to: ./model/tensorflow_model/assets\n"
     ]
    }
   ],
   "source": [
    "model.save(\"./model/tensorflow_model\")"
   ]
  },
  {
   "cell_type": "code",
   "execution_count": 8,
   "metadata": {},
   "outputs": [
    {
     "data": {
      "image/png": "[encoded data removed]",
      "text/plain": [
       "<matplotlib.figure.Figure at 0x7f95630d3ac8>"
      ]
     },
     "metadata": {
      "needs_background": "light"
     },
     "output_type": "display_data"
    },
    {
     "data": {
      "image/png": "[encoded data removed]",
      "text/plain": [
       "<matplotlib.figure.Figure at 0x7f9562fa2ef0>"
      ]
     },
     "metadata": {
      "needs_background": "light"
     },
     "output_type": "display_data"
    }
   ],
   "source": [
    "plt.title('Loss')\n",
    "plt.plot(history.history['loss'], label=\"train\")\n",
    "plt.plot(history.history['val_loss'], label=\"val\", c = 'red')\n",
    "plt.legend()\n",
    "plt.savefig('./pic/keras_loss.png')\n",
    "plt.show()\n",
    "\n",
    "plt.title('Accuracy')\n",
    "plt.plot(history.history['accuracy'], label=\"train\")\n",
    "plt.plot(history.history['val_accuracy'], label=\"val\", c = 'red')\n",
    "plt.legend()\n",
    "plt.savefig('./pic/keras_acc.png')\n",
    "plt.show()"
   ]
  },
  {
   "cell_type": "code",
   "execution_count": 10,
   "metadata": {},
   "outputs": [
    {
     "name": "stdout",
     "output_type": "stream",
     "text": [
      "15/15 [==============================] - 1s 18ms/step - loss: 2.9887 - accuracy: 0.2289\n",
      "Test acc: 22.8889 %\n"
     ]
    }
   ],
   "source": [
    "# predict test dataset\n",
    "# test_history = model.evaluate(test_dataloader)\n",
    "test_history = model.evaluate(X_test, Y_test)\n",
    "print(f\"Test acc: {test_history[1]*100:.4f} %\")"
   ]
  },
  {
   "attachments": {},
   "cell_type": "markdown",
   "metadata": {},
   "source": [
    "#### compare dynamic graph and static graph"
   ]
  },
  {
   "cell_type": "code",
   "execution_count": 11,
   "metadata": {},
   "outputs": [
    {
     "name": "stdout",
     "output_type": "stream",
     "text": [
      "The time on training\n",
      "static graph: 24.36936131794937\n",
      "dynamic graph: 22.90667828300502\n",
      "The time on inference\n",
      "static graph: 0.4659516300307587\n",
      "dynamic graph: 0.21530631295172498\n"
     ]
    }
   ],
   "source": [
    "@tf.function\n",
    "def model_static(x, y):\n",
    "    y_prob = model(x)\n",
    "    loss = tf.losses.MeanSquaredError()(y_prob, y)\n",
    "    return y_prob, loss\n",
    "\n",
    "def model_dynamic(x, y):\n",
    "    y_prob = model(x)\n",
    "    loss = tf.losses.MeanSquaredError()(y_prob, y)\n",
    "    return y_prob, loss\n",
    "\n",
    "print(\"The time on training\")\n",
    "print(\"static graph:\", timeit.timeit(lambda: model_static(X_train, Y_train), number=10))\n",
    "print(\"dynamic graph:\", timeit.timeit(lambda: model_dynamic(X_train, Y_train), number=10))\n",
    "print(\"The time on inference\")\n",
    "print(\"static graph:\", timeit.timeit(lambda: model_static(X_test, Y_test), number=10))\n",
    "print(\"dynamic graph:\", timeit.timeit(lambda: model_dynamic(X_test, Y_test), number=10))"
   ]
  },
  {
   "attachments": {},
   "cell_type": "markdown",
   "metadata": {},
   "source": [
    "#### compute FLOPS"
   ]
  },
  {
   "cell_type": "code",
   "execution_count": 12,
   "metadata": {},
   "outputs": [
    {
     "name": "stdout",
     "output_type": "stream",
     "text": [
      "| Model Profile                    | Value   | Unit    |\n",
      "|----------------------------------|---------|---------|\n",
      "| Selected GPUs                    | ['0']   | GPU IDs |\n",
      "| No. of FLOPs                     | 0.0877  | MFLOPs  |\n",
      "| GPU Memory Requirement           | 2.1459  | MB      |\n",
      "| Model Parameters                 | 0.0654  | Million |\n",
      "| Memory Required by Model Weights | 0.2495  | MB      |\n"
     ]
    },
    {
     "name": "stderr",
     "output_type": "stream",
     "text": [
      "/home/re6111032/.local/lib/python3.6/site-packages/numpy/core/_asarray.py:83: VisibleDeprecationWarning: Creating an ndarray from ragged nested sequences (which is a list-or-tuple of lists-or-tuples-or ndarrays with different lengths or shapes) is deprecated. If you meant to do this, you must specify 'dtype=object' when creating the ndarray\n",
      "  return array(a, dtype, copy=False, order=order)\n"
     ]
    }
   ],
   "source": [
    "profile = model_profiler(model, BATCH_SIZE, use_units = ['GPU IDs', 'MFLOPs', 'MB', 'Million', 'MB'])\n",
    "print(profile)"
   ]
  },
  {
   "attachments": {},
   "cell_type": "markdown",
   "metadata": {},
   "source": [
    "#### Network Pruning"
   ]
  },
  {
   "cell_type": "code",
   "execution_count": 14,
   "metadata": {},
   "outputs": [
    {
     "name": "stdout",
     "output_type": "stream",
     "text": [
      "Epoch 1/30\n",
      "990/990 [==============================] - 15s 15ms/step - loss: 3.4430 - accuracy: 0.1047 - val_loss: 3.2004 - val_accuracy: 0.1244\n",
      "Epoch 2/30\n",
      "990/990 [==============================] - 16s 16ms/step - loss: 3.0874 - accuracy: 0.1735 - val_loss: 3.0674 - val_accuracy: 0.1822\n",
      "Epoch 3/30\n",
      "990/990 [==============================] - 14s 14ms/step - loss: 2.9652 - accuracy: 0.2016 - val_loss: 3.0621 - val_accuracy: 0.1756\n",
      "Epoch 4/30\n",
      "990/990 [==============================] - 14s 14ms/step - loss: 2.8856 - accuracy: 0.2183 - val_loss: 2.9924 - val_accuracy: 0.1711\n",
      "Epoch 5/30\n",
      "990/990 [==============================] - 15s 15ms/step - loss: 2.8171 - accuracy: 0.2345 - val_loss: 2.9006 - val_accuracy: 0.1911\n",
      "Epoch 6/30\n",
      "990/990 [==============================] - 14s 14ms/step - loss: 2.7678 - accuracy: 0.2465 - val_loss: 2.9034 - val_accuracy: 0.1911\n",
      "Epoch 7/30\n",
      "990/990 [==============================] - 15s 15ms/step - loss: 2.7204 - accuracy: 0.2573 - val_loss: 2.8913 - val_accuracy: 0.1956\n",
      "Epoch 8/30\n",
      "990/990 [==============================] - 14s 14ms/step - loss: 2.6839 - accuracy: 0.2655 - val_loss: 2.8515 - val_accuracy: 0.2067\n",
      "Epoch 9/30\n",
      "990/990 [==============================] - 15s 15ms/step - loss: 2.6498 - accuracy: 0.2720 - val_loss: 2.8398 - val_accuracy: 0.2356\n",
      "Epoch 10/30\n",
      "990/990 [==============================] - 15s 15ms/step - loss: 2.6190 - accuracy: 0.2783 - val_loss: 2.8760 - val_accuracy: 0.2111\n",
      "Epoch 11/30\n",
      "990/990 [==============================] - 14s 14ms/step - loss: 2.5900 - accuracy: 0.2869 - val_loss: 2.8492 - val_accuracy: 0.2044\n",
      "Epoch 12/30\n",
      "990/990 [==============================] - 14s 15ms/step - loss: 2.5653 - accuracy: 0.2921 - val_loss: 2.8631 - val_accuracy: 0.2244\n",
      "Epoch 13/30\n",
      "990/990 [==============================] - 14s 14ms/step - loss: 2.5405 - accuracy: 0.2984 - val_loss: 2.8216 - val_accuracy: 0.2178\n",
      "Epoch 14/30\n",
      "990/990 [==============================] - 15s 15ms/step - loss: 2.5184 - accuracy: 0.3025 - val_loss: 2.8619 - val_accuracy: 0.2178\n",
      "Epoch 15/30\n",
      "990/990 [==============================] - 15s 16ms/step - loss: 2.4993 - accuracy: 0.3071 - val_loss: 2.7903 - val_accuracy: 0.2400\n",
      "Epoch 16/30\n",
      "990/990 [==============================] - 13s 14ms/step - loss: 2.4804 - accuracy: 0.3107 - val_loss: 2.8405 - val_accuracy: 0.2244\n",
      "Epoch 17/30\n",
      "990/990 [==============================] - 15s 15ms/step - loss: 2.4604 - accuracy: 0.3157 - val_loss: 2.8066 - val_accuracy: 0.2311\n",
      "Epoch 18/30\n",
      "990/990 [==============================] - 14s 15ms/step - loss: 2.4427 - accuracy: 0.3197 - val_loss: 2.8204 - val_accuracy: 0.2267\n",
      "Epoch 19/30\n",
      "990/990 [==============================] - 14s 14ms/step - loss: 2.4267 - accuracy: 0.3223 - val_loss: 2.8398 - val_accuracy: 0.2111\n",
      "Epoch 20/30\n",
      "990/990 [==============================] - 15s 15ms/step - loss: 2.4108 - accuracy: 0.3268 - val_loss: 2.7916 - val_accuracy: 0.2178\n",
      "Epoch 21/30\n",
      "990/990 [==============================] - 13s 13ms/step - loss: 2.3974 - accuracy: 0.3303 - val_loss: 2.9095 - val_accuracy: 0.2267\n",
      "Epoch 22/30\n",
      "990/990 [==============================] - 14s 14ms/step - loss: 2.3801 - accuracy: 0.3330 - val_loss: 2.8322 - val_accuracy: 0.2356\n",
      "Epoch 23/30\n",
      "990/990 [==============================] - 14s 14ms/step - loss: 2.3675 - accuracy: 0.3346 - val_loss: 2.8971 - val_accuracy: 0.2333\n",
      "Epoch 24/30\n",
      "990/990 [==============================] - 14s 15ms/step - loss: 2.3529 - accuracy: 0.3413 - val_loss: 2.8666 - val_accuracy: 0.2222\n",
      "Epoch 25/30\n",
      "990/990 [==============================] - 14s 14ms/step - loss: 2.3387 - accuracy: 0.3433 - val_loss: 2.8936 - val_accuracy: 0.2333\n",
      "Epoch 26/30\n",
      "990/990 [==============================] - 15s 15ms/step - loss: 2.3272 - accuracy: 0.3449 - val_loss: 2.9257 - val_accuracy: 0.2244\n",
      "Epoch 27/30\n",
      "990/990 [==============================] - 14s 14ms/step - loss: 2.3169 - accuracy: 0.3491 - val_loss: 2.9337 - val_accuracy: 0.1978\n",
      "Epoch 28/30\n",
      "990/990 [==============================] - 14s 15ms/step - loss: 2.3035 - accuracy: 0.3518 - val_loss: 2.8586 - val_accuracy: 0.2244\n",
      "Epoch 29/30\n",
      "990/990 [==============================] - 16s 16ms/step - loss: 2.2914 - accuracy: 0.3515 - val_loss: 2.8527 - val_accuracy: 0.2467\n",
      "Epoch 30/30\n",
      "990/990 [==============================] - 13s 13ms/step - loss: 2.2828 - accuracy: 0.3558 - val_loss: 2.8853 - val_accuracy: 0.2356\n",
      "15/15 [==============================] - 0s 17ms/step - loss: 2.9053 - accuracy: 0.2244\n"
     ]
    }
   ],
   "source": [
    "from tensorflow_model_optimization.sparsity import keras as sparsity\n",
    "\n",
    "num_epochs = 30\n",
    "# num_batches = np.ceil(len(train_dataset)/BATCH_SIZE)\n",
    "num_batches = np.ceil(len(X_train)/BATCH_SIZE)\n",
    "pruning_params = {\n",
    "    'pruning_schedule': sparsity.PolynomialDecay(\n",
    "        initial_sparsity=0.50,  # Initial sparsity (50% of weights pruned)\n",
    "        final_sparsity=0.90,    # Final sparsity (90% of weights pruned)\n",
    "        begin_step=0,           # Step at which pruning begins\n",
    "        end_step=num_epochs * num_batches,  # Step at which pruning ends\n",
    "        frequency=100           # Frequency at which pruning is applied\n",
    "    )\n",
    "}\n",
    "\n",
    "pruned_model = tf.keras.models.clone_model(model)\n",
    "sparsity.prune_low_magnitude(pruned_model, **pruning_params)\n",
    "\n",
    "pruned_model.compile(optimizer='adam', loss='categorical_crossentropy', metrics=['accuracy'])\n",
    "pruned_model.fit(X_train, Y_train, batch_size=BATCH_SIZE, epochs=num_epochs, validation_data=(X_val, Y_val))\n",
    "\n",
    "final_model = sparsity.strip_pruning(pruned_model)\n",
    "final_model.compile(optimizer='adam', loss='categorical_crossentropy', metrics=['accuracy'])\n",
    "test_loss, test_accuracy = final_model.evaluate(X_test, Y_test)\n",
    "final_model.save('./model/pruned_model.h5')\n"
   ]
  },
  {
   "cell_type": "code",
   "execution_count": 16,
   "metadata": {},
   "outputs": [
    {
     "name": "stdout",
     "output_type": "stream",
     "text": [
      "Test loss: 2.9053 | Test acc: 22.4444 %\n"
     ]
    }
   ],
   "source": [
    "# predict test dataset\n",
    "print(f\"Test loss: {test_loss:.4f} | Test acc: {test_accuracy*100:.4f} %\")"
   ]
  },
  {
   "cell_type": "code",
   "execution_count": null,
   "metadata": {},
   "outputs": [],
   "source": []
  }
 ],
 "metadata": {
  "kernelspec": {
   "display_name": "Python 3",
   "language": "python",
   "name": "python3"
  },
  "language_info": {
   "codemirror_mode": {
    "name": "ipython",
    "version": 3
   },
   "file_extension": ".py",
   "mimetype": "text/x-python",
   "name": "python",
   "nbconvert_exporter": "python",
   "pygments_lexer": "ipython3",
   "version": "3.6.9"
  },
  "orig_nbformat": 4
 },
 "nbformat": 4,
 "nbformat_minor": 2
}
