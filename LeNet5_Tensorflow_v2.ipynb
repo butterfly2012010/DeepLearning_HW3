{
 "cells": [
  {
   "cell_type": "code",
   "execution_count": 43,
   "metadata": {},
   "outputs": [
    {
     "name": "stdout",
     "output_type": "stream",
     "text": [
      "2.6.2\n"
     ]
    }
   ],
   "source": [
    "# import pickle\n",
    "import json  # 存loss, acc\n",
    "# import random\n",
    "import timeit\n",
    "import numpy as np\n",
    "import matplotlib.pyplot as plt\n",
    "from abc import ABCMeta, abstractmethod\n",
    "#################################################\n",
    "import cv2\n",
    "# import matplotlib.pyplot as plt\n",
    "# import math\n",
    "\n",
    "import os\n",
    "import multiprocessing as mp\n",
    "from tqdm import tqdm\n",
    "# import time\n",
    "#################################################\n",
    "# import torch\n",
    "# import torch.nn as nn\n",
    "# # import torch.nn.functional as F\n",
    "# import torch.optim as optim\n",
    "# from torch.utils.data import TensorDataset, DataLoader\n",
    "#################################################\n",
    "import tensorflow as tf\n",
    "# import tensorflow_addons as tfa\n",
    "from model_profiler import model_profiler\n",
    "from tensorflow.keras import layers\n",
    "# from tensorflow.keras import losses\n",
    "# from tensorflow.keras import optimizers\n",
    "# from tensorflow.keras import metrics\n",
    "from tensorflow.data import Dataset\n",
    "print(tf.__version__)"
   ]
  },
  {
   "cell_type": "code",
   "execution_count": 2,
   "metadata": {},
   "outputs": [],
   "source": [
    "# print(\"# cpus: \", os.cpu_count())\n",
    "NUM_PROCESSES = 8"
   ]
  },
  {
   "cell_type": "code",
   "execution_count": 3,
   "metadata": {},
   "outputs": [
    {
     "name": "stderr",
     "output_type": "stream",
     "text": [
      "100%|██████████| 63325/63325 [00:03<00:00, 20951.26it/s]\n",
      "100%|██████████| 450/450 [00:00<00:00, 37487.08it/s]\n",
      "100%|██████████| 450/450 [00:00<00:00, 33228.35it/s]\n"
     ]
    },
    {
     "name": "stdout",
     "output_type": "stream",
     "text": [
      "(63325, 3, 32, 32)\n",
      "(450, 3, 32, 32)\n",
      "(450, 3, 32, 32)\n",
      "\n",
      "(63325,)\n",
      "(450,)\n",
      "(450,)\n"
     ]
    }
   ],
   "source": [
    "resized_train_imgs = np.load(file=\"./data/resized_train_imgs.npy\")\n",
    "resized_val_imgs = np.load(file=\"./data/resized_val_imgs.npy\")\n",
    "resized_test_imgs = np.load(file=\"./data/resized_test_imgs.npy\")\n",
    "train_label = np.load(file=\"./data/train_label.npy\")\n",
    "val_label = np.load(file=\"./data/val_label.npy\")\n",
    "test_label = np.load(file=\"./data/test_label.npy\")\n",
    "\n",
    "def MoveColorChannel(image: np.ndarray) -> np.ndarray:\n",
    "    return np.moveaxis(image, source=2, destination=0)  # reshape (H, W, C) to (C, H, W)\n",
    "\n",
    "with mp.Pool(processes=NUM_PROCESSES) as pool:\n",
    "    resized_train_imgs = pool.map(MoveColorChannel, tqdm(resized_train_imgs))\n",
    "    resized_val_imgs = pool.map(MoveColorChannel, tqdm(resized_val_imgs))\n",
    "    resized_test_imgs = pool.map(MoveColorChannel, tqdm(resized_test_imgs))\n",
    "\n",
    "# convert list to numpy.ndarray\n",
    "resized_train_imgs = np.array(resized_train_imgs)\n",
    "resized_val_imgs = np.array(resized_val_imgs)\n",
    "resized_test_imgs = np.array(resized_test_imgs)\n",
    "# list to numpy.ndarray\n",
    "train_label = np.array(train_label)\n",
    "val_label = np.array(val_label)\n",
    "test_label = np.array(test_label)\n",
    "# check the shape\n",
    "print(resized_train_imgs.shape)\n",
    "print(resized_val_imgs.shape)\n",
    "print(resized_test_imgs.shape)\n",
    "print()\n",
    "print(train_label.shape)\n",
    "print(val_label.shape)\n",
    "print(test_label.shape)\n",
    "\n",
    "X_train, Y_train, X_val, Y_val, X_test, Y_test = resized_train_imgs, train_label, \\\n",
    "                                                 resized_val_imgs, val_label, \\\n",
    "                                                 resized_test_imgs, test_label\n",
    "# normalization\n",
    "X_train, X_val, X_test = X_train/float(255), X_val/float(255), X_test/float(255)\n",
    "X_train -= np.mean(X_train)\n",
    "X_val -= np.mean(X_val)\n",
    "X_test -= np.mean(X_test)\n",
    "\n",
    "def MakeOneHot(Y, D_out):\n",
    "    N = Y.shape[0]\n",
    "    Z = np.zeros((N, D_out))\n",
    "    Z[np.arange(N), Y] = 1\n",
    "    return Z\n",
    "\n",
    "Y_train = MakeOneHot(Y_train, 50)\n",
    "Y_val = MakeOneHot(Y_val, 50)\n",
    "Y_test = MakeOneHot(Y_test, 50)"
   ]
  },
  {
   "cell_type": "code",
   "execution_count": 9,
   "metadata": {},
   "outputs": [],
   "source": [
    "train_dataset = Dataset.from_tensor_slices((X_train, Y_train)).shuffle(buffer_size=10000, seed=42)\n",
    "val_dataset = Dataset.from_tensor_slices((X_val, Y_val)).shuffle(buffer_size=10000, seed=42)\n",
    "test_dataset = Dataset.from_tensor_slices((X_test, Y_test)).shuffle(buffer_size=10000, seed=42)\n",
    "BATCH_SIZE = 64\n",
    "train_dataloader = train_dataset.batch(BATCH_SIZE)\n",
    "val_dataloader = val_dataset.batch(BATCH_SIZE)\n",
    "test_dataloader = test_dataset.batch(BATCH_SIZE)"
   ]
  },
  {
   "cell_type": "code",
   "execution_count": 51,
   "metadata": {},
   "outputs": [
    {
     "name": "stdout",
     "output_type": "stream",
     "text": [
      "Model: \"sequential_8\"\n",
      "_________________________________________________________________\n",
      "Layer (type)                 Output Shape              Param #   \n",
      "=================================================================\n",
      "conv2d_14 (Conv2D)           (None, 6, 28, 28)         456       \n",
      "_________________________________________________________________\n",
      "max_pooling2d_8 (MaxPooling2 (None, 6, 14, 14)         0         \n",
      "_________________________________________________________________\n",
      "conv2d_15 (Conv2D)           (None, 16, 10, 10)        2416      \n",
      "_________________________________________________________________\n",
      "max_pooling2d_9 (MaxPooling2 (None, 16, 5, 5)          0         \n",
      "_________________________________________________________________\n",
      "flatten_6 (Flatten)          (None, 400)               0         \n",
      "_________________________________________________________________\n",
      "dense_18 (Dense)             (None, 120)               48120     \n",
      "_________________________________________________________________\n",
      "dense_19 (Dense)             (None, 84)                10164     \n",
      "_________________________________________________________________\n",
      "dense_20 (Dense)             (None, 50)                4250      \n",
      "=================================================================\n",
      "Total params: 65,406\n",
      "Trainable params: 65,406\n",
      "Non-trainable params: 0\n",
      "_________________________________________________________________\n"
     ]
    }
   ],
   "source": [
    "# Define the LeNet-5 model\n",
    "def lenet5():\n",
    "    model = tf.keras.Sequential()\n",
    "\n",
    "    model.add(layers.Conv2D(6, kernel_size=5, strides=1, data_format='channels_first', activation='relu', input_shape=(3, 32, 32)))\n",
    "    model.add(layers.MaxPooling2D(pool_size=2, strides=2, data_format='channels_first'))\n",
    "\n",
    "    model.add(layers.Conv2D(16, kernel_size=5, strides=1, data_format='channels_first', activation='relu'))\n",
    "    model.add(layers.MaxPooling2D(pool_size=2, strides=2, data_format='channels_first'))\n",
    "\n",
    "    model.add(layers.Flatten())\n",
    "\n",
    "    model.add(layers.Dense(120, activation='relu'))\n",
    "    model.add(layers.Dense(84, activation='relu'))\n",
    "    model.add(layers.Dense(50, activation='softmax'))\n",
    "\n",
    "    return model\n",
    "\n",
    "# Create an instance of the LeNet-5 model\n",
    "model = lenet5()\n",
    "\n",
    "# Print the model summary\n",
    "model.summary()\n"
   ]
  },
  {
   "cell_type": "code",
   "execution_count": 52,
   "metadata": {},
   "outputs": [
    {
     "name": "stdout",
     "output_type": "stream",
     "text": [
      "Epoch 1/30\n",
      "990/990 [==============================] - 10s 9ms/step - loss: 3.0442 - accuracy: 0.1594 - val_loss: 4.8802 - val_accuracy: 0.0867\n",
      "Epoch 2/30\n",
      "990/990 [==============================] - 10s 10ms/step - loss: 2.5800 - accuracy: 0.2327 - val_loss: 4.4756 - val_accuracy: 0.1111\n",
      "Epoch 3/30\n",
      "990/990 [==============================] - 10s 10ms/step - loss: 2.4544 - accuracy: 0.2658 - val_loss: 4.3417 - val_accuracy: 0.1289\n",
      "Epoch 4/30\n",
      "990/990 [==============================] - 8s 9ms/step - loss: 2.3875 - accuracy: 0.2857 - val_loss: 4.0229 - val_accuracy: 0.1133\n",
      "Epoch 5/30\n",
      "990/990 [==============================] - 9s 9ms/step - loss: 2.3198 - accuracy: 0.3029 - val_loss: 3.9984 - val_accuracy: 0.1200\n",
      "Epoch 6/30\n",
      "990/990 [==============================] - 7s 7ms/step - loss: 2.2798 - accuracy: 0.3142 - val_loss: 4.0884 - val_accuracy: 0.1422\n",
      "Epoch 7/30\n",
      "990/990 [==============================] - 7s 7ms/step - loss: 2.2453 - accuracy: 0.3257 - val_loss: 3.9864 - val_accuracy: 0.1467\n",
      "Epoch 8/30\n",
      "990/990 [==============================] - 8s 8ms/step - loss: 2.2187 - accuracy: 0.3347 - val_loss: 3.8882 - val_accuracy: 0.1578\n",
      "Epoch 9/30\n",
      "990/990 [==============================] - 10s 10ms/step - loss: 2.1888 - accuracy: 0.3410 - val_loss: 3.8167 - val_accuracy: 0.1644\n",
      "Epoch 10/30\n",
      "990/990 [==============================] - 9s 9ms/step - loss: 2.1615 - accuracy: 0.3476 - val_loss: 3.9111 - val_accuracy: 0.1556\n",
      "Epoch 11/30\n",
      "990/990 [==============================] - 9s 9ms/step - loss: 2.1419 - accuracy: 0.3516 - val_loss: 4.0760 - val_accuracy: 0.1533\n",
      "Epoch 12/30\n",
      "990/990 [==============================] - 9s 9ms/step - loss: 2.1284 - accuracy: 0.3569 - val_loss: 3.8948 - val_accuracy: 0.1467\n",
      "Epoch 13/30\n",
      "990/990 [==============================] - 9s 9ms/step - loss: 2.1066 - accuracy: 0.3652 - val_loss: 3.8035 - val_accuracy: 0.1489\n",
      "Epoch 14/30\n",
      "990/990 [==============================] - 8s 8ms/step - loss: 2.0861 - accuracy: 0.3699 - val_loss: 3.8869 - val_accuracy: 0.1489\n",
      "Epoch 15/30\n",
      "990/990 [==============================] - 9s 9ms/step - loss: 2.0676 - accuracy: 0.3748 - val_loss: 3.9169 - val_accuracy: 0.1689\n",
      "Epoch 16/30\n",
      "990/990 [==============================] - 8s 8ms/step - loss: 2.0498 - accuracy: 0.3792 - val_loss: 3.9102 - val_accuracy: 0.1622\n",
      "Epoch 17/30\n",
      "990/990 [==============================] - 9s 9ms/step - loss: 2.0358 - accuracy: 0.3860 - val_loss: 3.8674 - val_accuracy: 0.1511\n",
      "Epoch 18/30\n",
      "990/990 [==============================] - 8s 8ms/step - loss: 2.0139 - accuracy: 0.3913 - val_loss: 3.9552 - val_accuracy: 0.1556\n",
      "Epoch 19/30\n",
      "990/990 [==============================] - 7s 7ms/step - loss: 2.0015 - accuracy: 0.3945 - val_loss: 4.0083 - val_accuracy: 0.1556\n",
      "Epoch 20/30\n",
      "990/990 [==============================] - 9s 9ms/step - loss: 1.9894 - accuracy: 0.3981 - val_loss: 3.9417 - val_accuracy: 0.1689\n",
      "Epoch 21/30\n",
      "990/990 [==============================] - 10s 10ms/step - loss: 1.9735 - accuracy: 0.4008 - val_loss: 4.0007 - val_accuracy: 0.1578\n",
      "Epoch 22/30\n",
      "990/990 [==============================] - 9s 9ms/step - loss: 1.9655 - accuracy: 0.4072 - val_loss: 3.9634 - val_accuracy: 0.1600\n",
      "Epoch 23/30\n",
      "990/990 [==============================] - 8s 8ms/step - loss: 1.9489 - accuracy: 0.4100 - val_loss: 3.9143 - val_accuracy: 0.1756\n",
      "Epoch 24/30\n",
      "990/990 [==============================] - 8s 8ms/step - loss: 1.9326 - accuracy: 0.4125 - val_loss: 3.9072 - val_accuracy: 0.1356\n",
      "Epoch 25/30\n",
      "990/990 [==============================] - 8s 8ms/step - loss: 1.9186 - accuracy: 0.4181 - val_loss: 3.9317 - val_accuracy: 0.1467\n",
      "Epoch 26/30\n",
      "990/990 [==============================] - 8s 8ms/step - loss: 1.9119 - accuracy: 0.4209 - val_loss: 3.8368 - val_accuracy: 0.1444\n",
      "Epoch 27/30\n",
      "990/990 [==============================] - 9s 9ms/step - loss: 1.8963 - accuracy: 0.4265 - val_loss: 3.8674 - val_accuracy: 0.1644\n",
      "Epoch 28/30\n",
      "990/990 [==============================] - 8s 8ms/step - loss: 1.8792 - accuracy: 0.4295 - val_loss: 3.9361 - val_accuracy: 0.1533\n",
      "Epoch 29/30\n",
      "990/990 [==============================] - 9s 9ms/step - loss: 1.8688 - accuracy: 0.4309 - val_loss: 3.9655 - val_accuracy: 0.1578\n",
      "Epoch 30/30\n",
      "990/990 [==============================] - 7s 7ms/step - loss: 1.8596 - accuracy: 0.4364 - val_loss: 3.9856 - val_accuracy: 0.1533\n"
     ]
    }
   ],
   "source": [
    "# Compile the model\n",
    "model.compile(optimizer=tf.keras.optimizers.Adam(learning_rate=1e-3),\n",
    "              loss=tf.keras.losses.CategoricalCrossentropy(),\n",
    "              metrics=['accuracy'])\n",
    "\n",
    "history = model.fit(train_dataloader, epochs=30, validation_data=val_dataloader, workers=8, use_multiprocessing=True)"
   ]
  },
  {
   "cell_type": "code",
   "execution_count": 53,
   "metadata": {},
   "outputs": [
    {
     "name": "stdout",
     "output_type": "stream",
     "text": [
      "INFO:tensorflow:Assets written to: ./model/tensorflow_model/assets\n"
     ]
    }
   ],
   "source": [
    "model.save(\"./model/tensorflow_model\")"
   ]
  },
  {
   "cell_type": "code",
   "execution_count": 54,
   "metadata": {},
   "outputs": [
    {
     "data": {
      "image/png": "[encoded data removed]",
      "text/plain": [
       "<matplotlib.figure.Figure at 0x7f0468123908>"
      ]
     },
     "metadata": {
      "needs_background": "light"
     },
     "output_type": "display_data"
    },
    {
     "data": {
      "image/png": "[encoded data removed]",
      "text/plain": [
       "<matplotlib.figure.Figure at 0x7f0152b92cc0>"
      ]
     },
     "metadata": {
      "needs_background": "light"
     },
     "output_type": "display_data"
    }
   ],
   "source": [
    "plt.title('Loss')\n",
    "plt.plot(history.history['loss'], label=\"train\")\n",
    "plt.plot(history.history['val_loss'], label=\"val\", c = 'red')\n",
    "plt.legend()\n",
    "plt.savefig('./pic/keras_loss.png')\n",
    "plt.show()\n",
    "\n",
    "plt.title('Accuracy')\n",
    "plt.plot(history.history['accuracy'], label=\"train\")\n",
    "plt.plot(history.history['val_accuracy'], label=\"val\", c = 'red')\n",
    "plt.legend()\n",
    "plt.savefig('./pic/keras_acc.png')\n",
    "plt.show()"
   ]
  },
  {
   "cell_type": "code",
   "execution_count": 55,
   "metadata": {},
   "outputs": [
    {
     "name": "stdout",
     "output_type": "stream",
     "text": [
      "8/8 [==============================] - 0s 6ms/step - loss: 3.7858 - accuracy: 0.1933\n",
      "Test acc: 19.3333 %\n"
     ]
    }
   ],
   "source": [
    "# predict test dataset\n",
    "test_history = model.evaluate(test_dataloader)\n",
    "print(f\"Test acc: {test_history[1]*100:.4f} %\")"
   ]
  },
  {
   "attachments": {},
   "cell_type": "markdown",
   "metadata": {},
   "source": [
    "#### compare dynamic graph and static graph"
   ]
  },
  {
   "cell_type": "code",
   "execution_count": 56,
   "metadata": {},
   "outputs": [
    {
     "name": "stdout",
     "output_type": "stream",
     "text": [
      "The time on training\n",
      "static graph: 30.926938267424703\n",
      "dynamic graph: 27.43848058860749\n",
      "The time on inference\n",
      "static graph: 0.38763866294175386\n",
      "dynamic graph: 0.42417264077812433\n"
     ]
    }
   ],
   "source": [
    "@tf.function\n",
    "def model_static(x, y):\n",
    "    y_prob = model(x)\n",
    "    loss = tf.losses.MeanSquaredError()(y_prob, y)\n",
    "    return y_prob, loss\n",
    "\n",
    "def model_dynamic(x, y):\n",
    "    y_prob = model(x)\n",
    "    loss = tf.losses.MeanSquaredError()(y_prob, y)\n",
    "    return y_prob, loss\n",
    "\n",
    "print(\"The time on training\")\n",
    "print(\"static graph:\", timeit.timeit(lambda: model_static(X_train, Y_train), number=10))\n",
    "print(\"dynamic graph:\", timeit.timeit(lambda: model_dynamic(X_train, Y_train), number=10))\n",
    "print(\"The time on inference\")\n",
    "print(\"static graph:\", timeit.timeit(lambda: model_static(X_test, Y_test), number=10))\n",
    "print(\"dynamic graph:\", timeit.timeit(lambda: model_dynamic(X_test, Y_test), number=10))"
   ]
  },
  {
   "attachments": {},
   "cell_type": "markdown",
   "metadata": {},
   "source": [
    "#### compute FLOPS"
   ]
  },
  {
   "cell_type": "code",
   "execution_count": 57,
   "metadata": {},
   "outputs": [
    {
     "name": "stdout",
     "output_type": "stream",
     "text": [
      "| Model Profile                    | Value   | Unit    |\n",
      "|----------------------------------|---------|---------|\n",
      "| Selected GPUs                    | ['0']   | GPU IDs |\n",
      "| No. of FLOPs                     | 0.0877  | MFLOPs  |\n",
      "| GPU Memory Requirement           | 2.1459  | MB      |\n",
      "| Model Parameters                 | 0.0654  | Million |\n",
      "| Memory Required by Model Weights | 0.2495  | MB      |\n"
     ]
    },
    {
     "name": "stderr",
     "output_type": "stream",
     "text": [
      "/home/re6111032/.local/lib/python3.6/site-packages/numpy/core/_asarray.py:83: VisibleDeprecationWarning: Creating an ndarray from ragged nested sequences (which is a list-or-tuple of lists-or-tuples-or ndarrays with different lengths or shapes) is deprecated. If you meant to do this, you must specify 'dtype=object' when creating the ndarray\n",
      "  return array(a, dtype, copy=False, order=order)\n"
     ]
    }
   ],
   "source": [
    "profile = model_profiler(model, BATCH_SIZE, use_units = ['GPU IDs', 'MFLOPs', 'MB', 'Million', 'MB'])\n",
    "print(profile)"
   ]
  },
  {
   "cell_type": "code",
   "execution_count": null,
   "metadata": {},
   "outputs": [],
   "source": []
  }
 ],
 "metadata": {
  "kernelspec": {
   "display_name": "Python 3",
   "language": "python",
   "name": "python3"
  },
  "language_info": {
   "codemirror_mode": {
    "name": "ipython",
    "version": 3
   },
   "file_extension": ".py",
   "mimetype": "text/x-python",
   "name": "python",
   "nbconvert_exporter": "python",
   "pygments_lexer": "ipython3",
   "version": "3.6.9"
  },
  "orig_nbformat": 4
 },
 "nbformat": 4,
 "nbformat_minor": 2
}
