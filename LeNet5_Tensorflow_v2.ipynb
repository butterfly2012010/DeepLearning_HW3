{
 "cells": [
  {
   "cell_type": "code",
   "execution_count": 43,
   "metadata": {},
   "outputs": [
    {
     "name": "stdout",
     "output_type": "stream",
     "text": [
      "2.6.2\n"
     ]
    }
   ],
   "source": [
    "# import pickle\n",
    "import json  # 存loss, acc\n",
    "# import random\n",
    "import timeit\n",
    "import numpy as np\n",
    "import matplotlib.pyplot as plt\n",
    "from abc import ABCMeta, abstractmethod\n",
    "#################################################\n",
    "import cv2\n",
    "# import matplotlib.pyplot as plt\n",
    "# import math\n",
    "\n",
    "import os\n",
    "import multiprocessing as mp\n",
    "from tqdm import tqdm\n",
    "# import time\n",
    "#################################################\n",
    "# import torch\n",
    "# import torch.nn as nn\n",
    "# # import torch.nn.functional as F\n",
    "# import torch.optim as optim\n",
    "# from torch.utils.data import TensorDataset, DataLoader\n",
    "#################################################\n",
    "import tensorflow as tf\n",
    "# import tensorflow_addons as tfa\n",
    "from model_profiler import model_profiler\n",
    "from tensorflow.keras import layers\n",
    "# from tensorflow.keras import losses\n",
    "# from tensorflow.keras import optimizers\n",
    "# from tensorflow.keras import metrics\n",
    "from tensorflow.data import Dataset\n",
    "print(tf.__version__)"
   ]
  },
  {
   "cell_type": "code",
   "execution_count": 2,
   "metadata": {},
   "outputs": [],
   "source": [
    "# print(\"# cpus: \", os.cpu_count())\n",
    "NUM_PROCESSES = 8"
   ]
  },
  {
   "cell_type": "code",
   "execution_count": 3,
   "metadata": {},
   "outputs": [
    {
     "name": "stderr",
     "output_type": "stream",
     "text": [
      "100%|██████████| 63325/63325 [00:03<00:00, 20951.26it/s]\n",
      "100%|██████████| 450/450 [00:00<00:00, 37487.08it/s]\n",
      "100%|██████████| 450/450 [00:00<00:00, 33228.35it/s]\n"
     ]
    },
    {
     "name": "stdout",
     "output_type": "stream",
     "text": [
      "(63325, 3, 32, 32)\n",
      "(450, 3, 32, 32)\n",
      "(450, 3, 32, 32)\n",
      "\n",
      "(63325,)\n",
      "(450,)\n",
      "(450,)\n"
     ]
    }
   ],
   "source": [
    "resized_train_imgs = np.load(file=\"./data/resized_train_imgs.npy\")\n",
    "resized_val_imgs = np.load(file=\"./data/resized_val_imgs.npy\")\n",
    "resized_test_imgs = np.load(file=\"./data/resized_test_imgs.npy\")\n",
    "train_label = np.load(file=\"./data/train_label.npy\")\n",
    "val_label = np.load(file=\"./data/val_label.npy\")\n",
    "test_label = np.load(file=\"./data/test_label.npy\")\n",
    "\n",
    "def MoveColorChannel(image: np.ndarray) -> np.ndarray:\n",
    "    return np.moveaxis(image, source=2, destination=0)  # reshape (H, W, C) to (C, H, W)\n",
    "\n",
    "with mp.Pool(processes=NUM_PROCESSES) as pool:\n",
    "    resized_train_imgs = pool.map(MoveColorChannel, tqdm(resized_train_imgs))\n",
    "    resized_val_imgs = pool.map(MoveColorChannel, tqdm(resized_val_imgs))\n",
    "    resized_test_imgs = pool.map(MoveColorChannel, tqdm(resized_test_imgs))\n",
    "\n",
    "# convert list to numpy.ndarray\n",
    "resized_train_imgs = np.array(resized_train_imgs)\n",
    "resized_val_imgs = np.array(resized_val_imgs)\n",
    "resized_test_imgs = np.array(resized_test_imgs)\n",
    "# list to numpy.ndarray\n",
    "train_label = np.array(train_label)\n",
    "val_label = np.array(val_label)\n",
    "test_label = np.array(test_label)\n",
    "# check the shape\n",
    "print(resized_train_imgs.shape)\n",
    "print(resized_val_imgs.shape)\n",
    "print(resized_test_imgs.shape)\n",
    "print()\n",
    "print(train_label.shape)\n",
    "print(val_label.shape)\n",
    "print(test_label.shape)\n",
    "\n",
    "X_train, Y_train, X_val, Y_val, X_test, Y_test = resized_train_imgs, train_label, \\\n",
    "                                                 resized_val_imgs, val_label, \\\n",
    "                                                 resized_test_imgs, test_label\n",
    "# normalization\n",
    "X_train, X_val, X_test = X_train/float(255), X_val/float(255), X_test/float(255)\n",
    "X_train -= np.mean(X_train)\n",
    "X_val -= np.mean(X_val)\n",
    "X_test -= np.mean(X_test)\n",
    "\n",
    "def MakeOneHot(Y, D_out):\n",
    "    N = Y.shape[0]\n",
    "    Z = np.zeros((N, D_out))\n",
    "    Z[np.arange(N), Y] = 1\n",
    "    return Z\n",
    "\n",
    "Y_train = MakeOneHot(Y_train, 50)\n",
    "Y_val = MakeOneHot(Y_val, 50)\n",
    "Y_test = MakeOneHot(Y_test, 50)"
   ]
  },
  {
   "cell_type": "code",
   "execution_count": 9,
   "metadata": {},
   "outputs": [],
   "source": [
    "train_dataset = Dataset.from_tensor_slices((X_train, Y_train)).shuffle(buffer_size=10000, seed=42)\n",
    "val_dataset = Dataset.from_tensor_slices((X_val, Y_val)).shuffle(buffer_size=10000, seed=42)\n",
    "test_dataset = Dataset.from_tensor_slices((X_test, Y_test)).shuffle(buffer_size=10000, seed=42)\n",
    "BATCH_SIZE = 64\n",
    "train_dataloader = train_dataset.batch(BATCH_SIZE)\n",
    "val_dataloader = val_dataset.batch(BATCH_SIZE)\n",
    "test_dataloader = test_dataset.batch(BATCH_SIZE)"
   ]
  },
  {
   "cell_type": "code",
   "execution_count": 13,
   "metadata": {},
   "outputs": [
    {
     "name": "stdout",
     "output_type": "stream",
     "text": [
      "Model: \"sequential_4\"\n",
      "_________________________________________________________________\n",
      "Layer (type)                 Output Shape              Param #   \n",
      "=================================================================\n",
      "conv2d_6 (Conv2D)            (None, 6, 28, 28)         456       \n",
      "_________________________________________________________________\n",
      "max_pooling2d (MaxPooling2D) (None, 3, 14, 28)         0         \n",
      "_________________________________________________________________\n",
      "conv2d_7 (Conv2D)            (None, 16, 10, 24)        1216      \n",
      "_________________________________________________________________\n",
      "max_pooling2d_1 (MaxPooling2 (None, 8, 5, 24)          0         \n",
      "_________________________________________________________________\n",
      "flatten_2 (Flatten)          (None, 960)               0         \n",
      "_________________________________________________________________\n",
      "dense_6 (Dense)              (None, 120)               115320    \n",
      "_________________________________________________________________\n",
      "dense_7 (Dense)              (None, 84)                10164     \n",
      "_________________________________________________________________\n",
      "dense_8 (Dense)              (None, 50)                4250      \n",
      "=================================================================\n",
      "Total params: 131,406\n",
      "Trainable params: 131,406\n",
      "Non-trainable params: 0\n",
      "_________________________________________________________________\n"
     ]
    }
   ],
   "source": [
    "# Define the LeNet-5 model\n",
    "def lenet5():\n",
    "    model = tf.keras.Sequential()\n",
    "\n",
    "    model.add(layers.Conv2D(6, kernel_size=(5, 5), strides=(1, 1), data_format='channels_first', activation='relu', input_shape=(3, 32, 32)))\n",
    "    model.add(layers.MaxPooling2D(pool_size=(2, 2), strides=(2, 2)))\n",
    "\n",
    "    model.add(layers.Conv2D(16, kernel_size=(5, 5), strides=(1, 1), data_format='channels_first', activation='relu'))\n",
    "    model.add(layers.MaxPooling2D(pool_size=(2, 2), strides=(2, 2)))\n",
    "\n",
    "    model.add(layers.Flatten())\n",
    "\n",
    "    model.add(layers.Dense(120, activation='relu'))\n",
    "    model.add(layers.Dense(84, activation='relu'))\n",
    "    model.add(layers.Dense(50, activation='softmax'))\n",
    "\n",
    "    return model\n",
    "\n",
    "# Create an instance of the LeNet-5 model\n",
    "model = lenet5()\n",
    "\n",
    "# Print the model summary\n",
    "model.summary()\n"
   ]
  },
  {
   "cell_type": "code",
   "execution_count": 14,
   "metadata": {},
   "outputs": [
    {
     "name": "stdout",
     "output_type": "stream",
     "text": [
      "Epoch 1/30\n",
      "990/990 [==============================] - 11s 9ms/step - loss: 3.0840 - accuracy: 0.1501 - val_loss: 4.8482 - val_accuracy: 0.0756\n",
      "Epoch 2/30\n",
      "990/990 [==============================] - 10s 10ms/step - loss: 2.6896 - accuracy: 0.2042 - val_loss: 4.5235 - val_accuracy: 0.0844\n",
      "Epoch 3/30\n",
      "990/990 [==============================] - 7s 7ms/step - loss: 2.5665 - accuracy: 0.2384 - val_loss: 4.2490 - val_accuracy: 0.0956\n",
      "Epoch 4/30\n",
      "990/990 [==============================] - 10s 10ms/step - loss: 2.5024 - accuracy: 0.2526 - val_loss: 4.2897 - val_accuracy: 0.1156\n",
      "Epoch 5/30\n",
      "990/990 [==============================] - 8s 8ms/step - loss: 2.4737 - accuracy: 0.2600 - val_loss: 4.4839 - val_accuracy: 0.1111\n",
      "Epoch 6/30\n",
      "990/990 [==============================] - 9s 9ms/step - loss: 2.4328 - accuracy: 0.2727 - val_loss: 4.2551 - val_accuracy: 0.1067\n",
      "Epoch 7/30\n",
      "990/990 [==============================] - 9s 9ms/step - loss: 2.4080 - accuracy: 0.2776 - val_loss: 4.2793 - val_accuracy: 0.1156\n",
      "Epoch 8/30\n",
      "990/990 [==============================] - 9s 9ms/step - loss: 2.3882 - accuracy: 0.2844 - val_loss: 4.3281 - val_accuracy: 0.1089\n",
      "Epoch 9/30\n",
      "990/990 [==============================] - 10s 10ms/step - loss: 2.3677 - accuracy: 0.2885 - val_loss: 4.0254 - val_accuracy: 0.1333\n",
      "Epoch 10/30\n",
      "990/990 [==============================] - 8s 8ms/step - loss: 2.3329 - accuracy: 0.2994 - val_loss: 4.0268 - val_accuracy: 0.1044\n",
      "Epoch 11/30\n",
      "990/990 [==============================] - 8s 8ms/step - loss: 2.3111 - accuracy: 0.3031 - val_loss: 4.1526 - val_accuracy: 0.1222\n",
      "Epoch 12/30\n",
      "990/990 [==============================] - 9s 9ms/step - loss: 2.2963 - accuracy: 0.3075 - val_loss: 3.9949 - val_accuracy: 0.1422\n",
      "Epoch 13/30\n",
      "990/990 [==============================] - 9s 9ms/step - loss: 2.2793 - accuracy: 0.3114 - val_loss: 4.2323 - val_accuracy: 0.1356\n",
      "Epoch 14/30\n",
      "990/990 [==============================] - 8s 8ms/step - loss: 2.2701 - accuracy: 0.3137 - val_loss: 4.1065 - val_accuracy: 0.1333\n",
      "Epoch 15/30\n",
      "990/990 [==============================] - 8s 8ms/step - loss: 2.2521 - accuracy: 0.3180 - val_loss: 4.0699 - val_accuracy: 0.1311\n",
      "Epoch 16/30\n",
      "990/990 [==============================] - 7s 7ms/step - loss: 2.2346 - accuracy: 0.3239 - val_loss: 4.1152 - val_accuracy: 0.1311\n",
      "Epoch 17/30\n",
      "990/990 [==============================] - 9s 9ms/step - loss: 2.2251 - accuracy: 0.3283 - val_loss: 4.0494 - val_accuracy: 0.1444\n",
      "Epoch 18/30\n",
      "990/990 [==============================] - 8s 8ms/step - loss: 2.2093 - accuracy: 0.3323 - val_loss: 4.1899 - val_accuracy: 0.1400\n",
      "Epoch 19/30\n",
      "990/990 [==============================] - 7s 7ms/step - loss: 2.1976 - accuracy: 0.3386 - val_loss: 4.0162 - val_accuracy: 0.1578\n",
      "Epoch 20/30\n",
      "990/990 [==============================] - 9s 9ms/step - loss: 2.1841 - accuracy: 0.3384 - val_loss: 4.1694 - val_accuracy: 0.1644\n",
      "Epoch 21/30\n",
      "990/990 [==============================] - 8s 8ms/step - loss: 2.1700 - accuracy: 0.3466 - val_loss: 4.1239 - val_accuracy: 0.1644\n",
      "Epoch 22/30\n",
      "990/990 [==============================] - 9s 9ms/step - loss: 2.1531 - accuracy: 0.3493 - val_loss: 3.9503 - val_accuracy: 0.1511\n",
      "Epoch 23/30\n",
      "990/990 [==============================] - 8s 8ms/step - loss: 2.1457 - accuracy: 0.3529 - val_loss: 4.0567 - val_accuracy: 0.1467\n",
      "Epoch 24/30\n",
      "990/990 [==============================] - 9s 9ms/step - loss: 2.1250 - accuracy: 0.3581 - val_loss: 4.1416 - val_accuracy: 0.1467\n",
      "Epoch 25/30\n",
      "990/990 [==============================] - 9s 9ms/step - loss: 2.1139 - accuracy: 0.3636 - val_loss: 4.0758 - val_accuracy: 0.1622\n",
      "Epoch 26/30\n",
      "990/990 [==============================] - 9s 9ms/step - loss: 2.0993 - accuracy: 0.3638 - val_loss: 4.1070 - val_accuracy: 0.1467\n",
      "Epoch 27/30\n",
      "990/990 [==============================] - 9s 9ms/step - loss: 2.0889 - accuracy: 0.3696 - val_loss: 4.1263 - val_accuracy: 0.1467\n",
      "Epoch 28/30\n",
      "990/990 [==============================] - 9s 9ms/step - loss: 2.0724 - accuracy: 0.3727 - val_loss: 4.1111 - val_accuracy: 0.1489\n",
      "Epoch 29/30\n",
      "990/990 [==============================] - 8s 8ms/step - loss: 2.0575 - accuracy: 0.3788 - val_loss: 4.1198 - val_accuracy: 0.1489\n",
      "Epoch 30/30\n",
      "990/990 [==============================] - 8s 8ms/step - loss: 2.0446 - accuracy: 0.3825 - val_loss: 4.1536 - val_accuracy: 0.1600\n"
     ]
    }
   ],
   "source": [
    "# Compile the model\n",
    "model.compile(optimizer=tf.keras.optimizers.Adam(learning_rate=1e-3),\n",
    "              loss=tf.keras.losses.CategoricalCrossentropy(),\n",
    "              metrics=['accuracy'])\n",
    "\n",
    "history = model.fit(train_dataloader, epochs=30, validation_data=val_dataloader, workers=8, use_multiprocessing=True)"
   ]
  },
  {
   "cell_type": "code",
   "execution_count": 17,
   "metadata": {},
   "outputs": [
    {
     "name": "stdout",
     "output_type": "stream",
     "text": [
      "INFO:tensorflow:Assets written to: ./model/tensorflow_model/assets\n"
     ]
    }
   ],
   "source": [
    "model.save(\"./model/tensorflow_model\")"
   ]
  },
  {
   "cell_type": "code",
   "execution_count": 19,
   "metadata": {},
   "outputs": [
    {
     "data": {
      "image/png": "[encoded data removed]",
      "text/plain": [
       "<matplotlib.figure.Figure at 0x7f015b6b54e0>"
      ]
     },
     "metadata": {
      "needs_background": "light"
     },
     "output_type": "display_data"
    },
    {
     "data": {
      "image/png": "[encoded data removed]",
      "text/plain": [
       "<matplotlib.figure.Figure at 0x7f0152afcb38>"
      ]
     },
     "metadata": {
      "needs_background": "light"
     },
     "output_type": "display_data"
    }
   ],
   "source": [
    "plt.title('Loss')\n",
    "plt.plot(history.history['loss'], label=\"train\")\n",
    "plt.plot(history.history['val_loss'], label=\"val\", c = 'red')\n",
    "plt.legend()\n",
    "plt.savefig('./pic/keras_loss.png')\n",
    "plt.show()\n",
    "\n",
    "plt.title('Accuracy')\n",
    "plt.plot(history.history['accuracy'], label=\"train\")\n",
    "plt.plot(history.history['val_accuracy'], label=\"val\", c = 'red')\n",
    "plt.legend()\n",
    "plt.savefig('./pic/keras_acc.png')\n",
    "plt.show()"
   ]
  },
  {
   "cell_type": "code",
   "execution_count": 35,
   "metadata": {},
   "outputs": [
    {
     "name": "stdout",
     "output_type": "stream",
     "text": [
      "8/8 [==============================] - 0s 7ms/step - loss: 3.9785 - accuracy: 0.1756\n",
      "Test acc: 17.5556 %\n"
     ]
    }
   ],
   "source": [
    "# predict test dataset\n",
    "test_history = model.evaluate(test_dataloader)\n",
    "print(f\"Test acc: {test_history[1]*100:.4f} %\")"
   ]
  },
  {
   "attachments": {},
   "cell_type": "markdown",
   "metadata": {},
   "source": [
    "#### compare dynamic graph and static graph"
   ]
  },
  {
   "cell_type": "code",
   "execution_count": 41,
   "metadata": {},
   "outputs": [
    {
     "name": "stdout",
     "output_type": "stream",
     "text": [
      "The time on training\n",
      "static graph: 36.8277790453285\n",
      "dynamic graph: 28.93309578113258\n",
      "The time on inference\n",
      "static graph: 0.24018280394375324\n",
      "dynamic graph: 0.14189833588898182\n"
     ]
    }
   ],
   "source": [
    "@tf.function\n",
    "def model_static(x, y):\n",
    "    y_prob = model(x)\n",
    "    loss = tf.losses.MeanSquaredError()(y_prob, y)\n",
    "    return y_prob, loss\n",
    "\n",
    "def model_dynamic(x, y):\n",
    "    y_prob = model(x)\n",
    "    loss = tf.losses.MeanSquaredError()(y_prob, y)\n",
    "    return y_prob, loss\n",
    "\n",
    "print(\"The time on training\")\n",
    "print(\"static graph:\", timeit.timeit(lambda: model_static(X_train, Y_train), number=10))\n",
    "print(\"dynamic graph:\", timeit.timeit(lambda: model_dynamic(X_train, Y_train), number=10))\n",
    "print(\"The time on inference\")\n",
    "print(\"static graph:\", timeit.timeit(lambda: model_static(X_test, Y_test), number=10))\n",
    "print(\"dynamic graph:\", timeit.timeit(lambda: model_dynamic(X_test, Y_test), number=10))"
   ]
  },
  {
   "attachments": {},
   "cell_type": "markdown",
   "metadata": {},
   "source": [
    "#### compute FLOPS"
   ]
  },
  {
   "cell_type": "code",
   "execution_count": 45,
   "metadata": {},
   "outputs": [
    {
     "name": "stdout",
     "output_type": "stream",
     "text": [
      "| Model Profile                    | Value   | Unit    |\n",
      "|----------------------------------|---------|---------|\n",
      "| Selected GPUs                    | ['0']   | GPU IDs |\n",
      "| No. of FLOPs                     | 0.1316  | MFLOPs  |\n",
      "| GPU Memory Requirement           | 3.0291  | MB      |\n",
      "| Model Parameters                 | 0.1314  | Million |\n",
      "| Memory Required by Model Weights | 0.5013  | MB      |\n"
     ]
    }
   ],
   "source": [
    "profile = model_profiler(model, BATCH_SIZE, use_units = ['GPU IDs', 'MFLOPs', 'MB', 'Million', 'MB'])\n",
    "print(profile)"
   ]
  }
 ],
 "metadata": {
  "kernelspec": {
   "display_name": "Python 3",
   "language": "python",
   "name": "python3"
  },
  "language_info": {
   "codemirror_mode": {
    "name": "ipython",
    "version": 3
   },
   "file_extension": ".py",
   "mimetype": "text/x-python",
   "name": "python",
   "nbconvert_exporter": "python",
   "pygments_lexer": "ipython3",
   "version": "3.6.9"
  },
  "orig_nbformat": 4
 },
 "nbformat": 4,
 "nbformat_minor": 2
}
