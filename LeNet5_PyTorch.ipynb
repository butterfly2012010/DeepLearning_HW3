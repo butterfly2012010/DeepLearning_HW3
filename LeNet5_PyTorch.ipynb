{
 "cells": [
  {
   "cell_type": "code",
   "execution_count": 7,
   "metadata": {},
   "outputs": [],
   "source": [
    "# import pickle\n",
    "import json  # 存loss, acc\n",
    "# import random\n",
    "import numpy as np\n",
    "import matplotlib.pyplot as plt\n",
    "# from abc import ABCMeta, abstractmethod\n",
    "#################################################\n",
    "import cv2\n",
    "# import matplotlib.pyplot as plt\n",
    "# import math\n",
    "\n",
    "import os\n",
    "import multiprocessing as mp\n",
    "from tqdm import tqdm\n",
    "import time\n",
    "#################################################\n",
    "import torch\n",
    "import torch.nn as nn\n",
    "# import torch.nn.functional as F\n",
    "import torch.optim as optim\n",
    "from torch.utils.data import TensorDataset, DataLoader\n",
    "\n",
    "from thop import profile\n",
    "# from ptflops import get_model_complexity_info"
   ]
  },
  {
   "cell_type": "code",
   "execution_count": 8,
   "metadata": {},
   "outputs": [],
   "source": [
    "# print(\"# cpus: \", os.cpu_count())\n",
    "NUM_PROCESSES = 8"
   ]
  },
  {
   "cell_type": "code",
   "execution_count": null,
   "metadata": {},
   "outputs": [],
   "source": [
    "with open(\"./train.txt\") as f:\n",
    "    train_file_list = f.readlines()\n",
    "with open(\"./val.txt\") as f:\n",
    "    val_file_list = f.readlines()\n",
    "with open(\"./test.txt\") as f:\n",
    "    test_file_list = f.readlines()\n",
    "\n",
    "train_file_list = [x.strip().split(sep=\" \") for x in train_file_list]\n",
    "val_file_list = [x.strip().split(sep=\" \") for x in val_file_list]\n",
    "test_file_list = [x.strip().split(sep=\" \") for x in test_file_list]\n",
    "\n",
    "train_label = [int(x[1]) for x in train_file_list]\n",
    "val_label = [int(x[1]) for x in val_file_list]\n",
    "test_label = [int(x[1]) for x in test_file_list]\n",
    "\n",
    "train_file_list = [x[0] for x in train_file_list]\n",
    "val_file_list = [x[0] for x in val_file_list]\n",
    "test_file_list = [x[0] for x in test_file_list]\n",
    "\n",
    "# print(\"# cpus: \", os.cpu_count())\n",
    "NUM_PROCESSES = 8\n",
    "\n",
    "def ReadImage(filePath):\n",
    "    image = cv2.imread(filePath, cv2.IMREAD_COLOR)\n",
    "    # image = cv2.imread(filePath, cv2.IMREAD_GRAYSCALE)\n",
    "    # image = cv2.resize(image, (256, 256))\n",
    "    return image\n",
    "\n",
    "with mp.Pool(processes=NUM_PROCESSES) as pool:\n",
    "    train_imgs = pool.map(ReadImage, tqdm(train_file_list))\n",
    "    val_imgs = pool.map(ReadImage, tqdm(val_file_list))\n",
    "    test_imgs = pool.map(ReadImage, tqdm(test_file_list))\n",
    "\n",
    "# resize the images to 256x256\n",
    "def ResizeImage(image):\n",
    "    # resized_img = cv2.resize(image, (256, 256))\n",
    "    resized_img = cv2.resize(image, (32, 32))\n",
    "    return resized_img\n",
    "\n",
    "with mp.Pool(processes=NUM_PROCESSES) as pool:\n",
    "    resized_train_imgs = pool.map(ResizeImage, tqdm(train_imgs))\n",
    "    resized_val_imgs = pool.map(ResizeImage, tqdm(val_imgs))\n",
    "    resized_test_imgs = pool.map(ResizeImage, tqdm(test_imgs))\n"
   ]
  },
  {
   "cell_type": "code",
   "execution_count": null,
   "metadata": {},
   "outputs": [],
   "source": [
    "np.save(file=\"./data/resized_train_imgs.npy\", arr=resized_train_imgs)\n",
    "np.save(file=\"./data/resized_val_imgs.npy\", arr=resized_val_imgs)\n",
    "np.save(file=\"./data/resized_test_imgs.npy\", arr=resized_test_imgs)\n",
    "np.save(file=\"./data/train_label\", arr=train_label)\n",
    "np.save(file=\"./data/val_label\", arr=val_label)\n",
    "np.save(file=\"./data/test_label\", arr=test_label)"
   ]
  },
  {
   "cell_type": "code",
   "execution_count": 9,
   "metadata": {},
   "outputs": [],
   "source": [
    "resized_train_imgs = np.load(file=\"./data/resized_train_imgs.npy\")\n",
    "resized_val_imgs = np.load(file=\"./data/resized_val_imgs.npy\")\n",
    "resized_test_imgs = np.load(file=\"./data/resized_test_imgs.npy\")\n",
    "train_label = np.load(file=\"./data/train_label.npy\")\n",
    "val_label = np.load(file=\"./data/val_label.npy\")\n",
    "test_label = np.load(file=\"./data/test_label.npy\")"
   ]
  },
  {
   "cell_type": "code",
   "execution_count": 10,
   "metadata": {},
   "outputs": [
    {
     "name": "stderr",
     "output_type": "stream",
     "text": [
      "100%|██████████| 63325/63325 [00:01<00:00, 33364.96it/s]\n",
      "100%|██████████| 450/450 [00:00<00:00, 52998.53it/s]\n",
      "100%|██████████| 450/450 [00:00<00:00, 41045.51it/s]\n"
     ]
    }
   ],
   "source": [
    "def MoveColorChannel(image: np.ndarray) -> np.ndarray:\n",
    "    return np.moveaxis(image, source=2, destination=0)  # reshape (H, W, C) to (C, H, W)\n",
    "\n",
    "with mp.Pool(processes=NUM_PROCESSES) as pool:\n",
    "    resized_train_imgs = pool.map(MoveColorChannel, tqdm(resized_train_imgs))\n",
    "    resized_val_imgs = pool.map(MoveColorChannel, tqdm(resized_val_imgs))\n",
    "    resized_test_imgs = pool.map(MoveColorChannel, tqdm(resized_test_imgs))\n"
   ]
  },
  {
   "cell_type": "code",
   "execution_count": 11,
   "metadata": {},
   "outputs": [],
   "source": [
    "# convert list to numpy.ndarray\n",
    "resized_train_imgs = np.array(resized_train_imgs)\n",
    "resized_val_imgs = np.array(resized_val_imgs)\n",
    "resized_test_imgs = np.array(resized_test_imgs)\n",
    "# list to numpy.ndarray\n",
    "train_label = np.array(train_label)\n",
    "val_label = np.array(val_label)\n",
    "test_label = np.array(test_label)"
   ]
  },
  {
   "cell_type": "code",
   "execution_count": 12,
   "metadata": {},
   "outputs": [
    {
     "name": "stdout",
     "output_type": "stream",
     "text": [
      "(63325, 3, 32, 32)\n",
      "(450, 3, 32, 32)\n",
      "(450, 3, 32, 32)\n",
      "\n",
      "(63325,)\n",
      "(450,)\n",
      "(450,)\n"
     ]
    }
   ],
   "source": [
    "# check the shape\n",
    "print(resized_train_imgs.shape)\n",
    "print(resized_val_imgs.shape)\n",
    "print(resized_test_imgs.shape)\n",
    "print()\n",
    "print(train_label.shape)\n",
    "print(val_label.shape)\n",
    "print(test_label.shape)"
   ]
  },
  {
   "cell_type": "code",
   "execution_count": 13,
   "metadata": {},
   "outputs": [],
   "source": [
    "X_train, Y_train, X_val, Y_val, X_test, Y_test = resized_train_imgs, train_label, \\\n",
    "                                                 resized_val_imgs, val_label, \\\n",
    "                                                 resized_test_imgs, test_label\n",
    "# normalization\n",
    "X_train, X_val, X_test = X_train/float(255), X_val/float(255), X_test/float(255)\n",
    "X_train -= np.mean(X_train)\n",
    "X_val -= np.mean(X_val)\n",
    "X_test -= np.mean(X_test)\n",
    "\n",
    "\n",
    "# TensorDataset\n",
    "X_train = torch.FloatTensor(X_train)\n",
    "X_val = torch.FloatTensor(X_val)\n",
    "X_test = torch.FloatTensor(X_test)\n",
    "# X_train = X_train.permute(0, 3, 1, 2)\n",
    "# X_val = X_val.permute(0, 3, 1, 2)\n",
    "# X_test = X_test.permute(0, 3, 1, 2)\n",
    "\n",
    "Y_train = torch.IntTensor(Y_train)\n",
    "Y_val = torch.IntTensor(Y_val)\n",
    "Y_test = torch.IntTensor(Y_test)\n",
    "\n",
    "train_dataset = TensorDataset(X_train, Y_train)\n",
    "val_dataset = TensorDataset(X_val, Y_val)\n",
    "test_dataset = TensorDataset(X_test, Y_test)\n",
    "\n",
    "BATCH_SIZE = 64\n",
    "train_dataloader = DataLoader(\n",
    "    dataset=train_dataset,\n",
    "    batch_size=BATCH_SIZE,\n",
    "    shuffle=True,\n",
    "    num_workers=NUM_PROCESSES\n",
    ")\n",
    "val_dataloader = DataLoader(\n",
    "    dataset=val_dataset,\n",
    "    batch_size=BATCH_SIZE,\n",
    "    shuffle=True,\n",
    "    num_workers=NUM_PROCESSES\n",
    ")\n",
    "test_dataloader = DataLoader(\n",
    "    dataset=test_dataset,\n",
    "    batch_size=BATCH_SIZE,\n",
    "    shuffle=True,\n",
    "    num_workers=NUM_PROCESSES\n",
    ")"
   ]
  },
  {
   "cell_type": "code",
   "execution_count": 14,
   "metadata": {},
   "outputs": [],
   "source": [
    "class LeNet5(nn.Module):\n",
    "    def __init__(self):\n",
    "        super(LeNet5, self).__init__()\n",
    "        self.conv1 = nn.Conv2d(3, 6, kernel_size=5, stride=1)\n",
    "        self.activ1 = nn.Sigmoid()\n",
    "        self.pool1 = nn.MaxPool2d(kernel_size=2, stride=2)\n",
    "        self.conv2 = nn.Conv2d(6, 16, kernel_size=5, stride=1)\n",
    "        self.activ2 = nn.Sigmoid()\n",
    "        self.pool2 = nn.MaxPool2d(kernel_size=2, stride=2)\n",
    "        self.fc1 = nn.Linear(16*5*5, 120)\n",
    "        self.activ3 = nn.Sigmoid()\n",
    "        self.fc2 = nn.Linear(120, 84)\n",
    "        self.activ4 = nn.Sigmoid()\n",
    "        self.fc3 = nn.Linear(84, 50)\n",
    "        self.softmax = nn.Softmax(dim=1)\n",
    "\n",
    "    def forward(self, x):\n",
    "        x = self.activ1(self.conv1(x))\n",
    "        x = self.pool1(x)\n",
    "        x = self.activ2(self.conv2(x))\n",
    "        x = self.pool2(x)\n",
    "        x = x.view(x.size(0), -1)\n",
    "        x = self.activ3(self.fc1(x))\n",
    "        x = self.activ4(self.fc2(x))\n",
    "        x = self.softmax(self.fc3(x))\n",
    "        return x"
   ]
  },
  {
   "cell_type": "code",
   "execution_count": 15,
   "metadata": {},
   "outputs": [
    {
     "name": "stdout",
     "output_type": "stream",
     "text": [
      "Training on cuda.\n"
     ]
    }
   ],
   "source": [
    "device = torch.device('cuda') if torch.cuda.is_available() else torch.device('cpu')\n",
    "print(f\"Training on {device}.\")"
   ]
  },
  {
   "cell_type": "code",
   "execution_count": 12,
   "metadata": {},
   "outputs": [
    {
     "name": "stderr",
     "output_type": "stream",
     "text": [
      "100%|██████████| 990/990 [00:15<00:00, 63.23it/s]"
     ]
    },
    {
     "name": "stdout",
     "output_type": "stream",
     "text": [
      "Epoch: 1 | Train loss: 3.9058 | Train acc: 2.8741 %\n"
     ]
    },
    {
     "name": "stderr",
     "output_type": "stream",
     "text": [
      "\n",
      "100%|██████████| 990/990 [00:15<00:00, 63.56it/s] "
     ]
    },
    {
     "name": "stdout",
     "output_type": "stream",
     "text": [
      "Epoch: 2 | Train loss: 3.8879 | Train acc: 5.2084 %\n"
     ]
    },
    {
     "name": "stderr",
     "output_type": "stream",
     "text": [
      "\n",
      "100%|██████████| 990/990 [00:18<00:00, 53.83it/s] "
     ]
    },
    {
     "name": "stdout",
     "output_type": "stream",
     "text": [
      "Epoch: 3 | Train loss: 3.8774 | Train acc: 6.5411 %\n"
     ]
    },
    {
     "name": "stderr",
     "output_type": "stream",
     "text": [
      "\n",
      "100%|██████████| 990/990 [00:13<00:00, 72.96it/s] "
     ]
    },
    {
     "name": "stdout",
     "output_type": "stream",
     "text": [
      "Epoch: 4 | Train loss: 3.8721 | Train acc: 7.0739 %\n"
     ]
    },
    {
     "name": "stderr",
     "output_type": "stream",
     "text": [
      "\n",
      "100%|██████████| 990/990 [00:15<00:00, 62.62it/s] "
     ]
    },
    {
     "name": "stdout",
     "output_type": "stream",
     "text": [
      "Epoch: 5 | Train loss: 3.8671 | Train acc: 7.6348 %\n"
     ]
    },
    {
     "name": "stderr",
     "output_type": "stream",
     "text": [
      "\n",
      "100%|██████████| 990/990 [00:11<00:00, 83.08it/s] "
     ]
    },
    {
     "name": "stdout",
     "output_type": "stream",
     "text": [
      "Epoch: 6 | Train loss: 3.8619 | Train acc: 8.1951 %\n"
     ]
    },
    {
     "name": "stderr",
     "output_type": "stream",
     "text": [
      "\n",
      "100%|██████████| 990/990 [00:15<00:00, 64.17it/s] "
     ]
    },
    {
     "name": "stdout",
     "output_type": "stream",
     "text": [
      "Epoch: 7 | Train loss: 3.8563 | Train acc: 8.8434 %\n"
     ]
    },
    {
     "name": "stderr",
     "output_type": "stream",
     "text": [
      "\n",
      "100%|██████████| 990/990 [00:11<00:00, 83.99it/s] "
     ]
    },
    {
     "name": "stdout",
     "output_type": "stream",
     "text": [
      "Epoch: 8 | Train loss: 3.8513 | Train acc: 9.4508 %\n"
     ]
    },
    {
     "name": "stderr",
     "output_type": "stream",
     "text": [
      "\n",
      "100%|██████████| 990/990 [00:19<00:00, 51.71it/s] "
     ]
    },
    {
     "name": "stdout",
     "output_type": "stream",
     "text": [
      "Epoch: 9 | Train loss: 3.8465 | Train acc: 9.9154 %\n"
     ]
    },
    {
     "name": "stderr",
     "output_type": "stream",
     "text": [
      "\n",
      "100%|██████████| 990/990 [00:11<00:00, 82.82it/s] "
     ]
    },
    {
     "name": "stdout",
     "output_type": "stream",
     "text": [
      "Epoch: 10 | Train loss: 3.8421 | Train acc: 10.3526 %\n"
     ]
    },
    {
     "name": "stderr",
     "output_type": "stream",
     "text": [
      "\n",
      "100%|██████████| 990/990 [00:17<00:00, 57.34it/s] "
     ]
    },
    {
     "name": "stdout",
     "output_type": "stream",
     "text": [
      "Epoch: 11 | Train loss: 3.8376 | Train acc: 10.8517 %\n"
     ]
    },
    {
     "name": "stderr",
     "output_type": "stream",
     "text": [
      "\n",
      "100%|██████████| 990/990 [00:13<00:00, 73.30it/s] "
     ]
    },
    {
     "name": "stdout",
     "output_type": "stream",
     "text": [
      "Epoch: 12 | Train loss: 3.8316 | Train acc: 11.4656 %\n"
     ]
    },
    {
     "name": "stderr",
     "output_type": "stream",
     "text": [
      "\n",
      "100%|██████████| 990/990 [00:17<00:00, 57.63it/s] "
     ]
    },
    {
     "name": "stdout",
     "output_type": "stream",
     "text": [
      "Epoch: 13 | Train loss: 3.8275 | Train acc: 11.9133 %\n"
     ]
    },
    {
     "name": "stderr",
     "output_type": "stream",
     "text": [
      "\n",
      "100%|██████████| 990/990 [00:14<00:00, 68.18it/s] "
     ]
    },
    {
     "name": "stdout",
     "output_type": "stream",
     "text": [
      "Epoch: 14 | Train loss: 3.8220 | Train acc: 12.4845 %\n"
     ]
    },
    {
     "name": "stderr",
     "output_type": "stream",
     "text": [
      "\n",
      "100%|██████████| 990/990 [00:16<00:00, 59.65it/s] "
     ]
    },
    {
     "name": "stdout",
     "output_type": "stream",
     "text": [
      "Epoch: 15 | Train loss: 3.8186 | Train acc: 12.8681 %\n"
     ]
    },
    {
     "name": "stderr",
     "output_type": "stream",
     "text": [
      "\n",
      "100%|██████████| 990/990 [00:16<00:00, 60.93it/s] "
     ]
    },
    {
     "name": "stdout",
     "output_type": "stream",
     "text": [
      "Epoch: 16 | Train loss: 3.8151 | Train acc: 13.1821 %\n"
     ]
    },
    {
     "name": "stderr",
     "output_type": "stream",
     "text": [
      "\n",
      "100%|██████████| 990/990 [00:14<00:00, 68.17it/s] "
     ]
    },
    {
     "name": "stdout",
     "output_type": "stream",
     "text": [
      "Epoch: 17 | Train loss: 3.8120 | Train acc: 13.4508 %\n"
     ]
    },
    {
     "name": "stderr",
     "output_type": "stream",
     "text": [
      "\n",
      "100%|██████████| 990/990 [00:16<00:00, 58.61it/s]"
     ]
    },
    {
     "name": "stdout",
     "output_type": "stream",
     "text": [
      "Epoch: 18 | Train loss: 3.8084 | Train acc: 13.9110 %\n"
     ]
    },
    {
     "name": "stderr",
     "output_type": "stream",
     "text": [
      "\n",
      "100%|██████████| 990/990 [00:12<00:00, 77.66it/s] "
     ]
    },
    {
     "name": "stdout",
     "output_type": "stream",
     "text": [
      "Epoch: 19 | Train loss: 3.8056 | Train acc: 14.1304 %\n"
     ]
    },
    {
     "name": "stderr",
     "output_type": "stream",
     "text": [
      "\n",
      "100%|██████████| 990/990 [00:15<00:00, 63.60it/s] "
     ]
    },
    {
     "name": "stdout",
     "output_type": "stream",
     "text": [
      "Epoch: 20 | Train loss: 3.8031 | Train acc: 14.4719 %\n"
     ]
    },
    {
     "name": "stderr",
     "output_type": "stream",
     "text": [
      "\n",
      "100%|██████████| 990/990 [00:13<00:00, 76.08it/s] "
     ]
    },
    {
     "name": "stdout",
     "output_type": "stream",
     "text": [
      "Epoch: 21 | Train loss: 3.8009 | Train acc: 14.6837 %\n"
     ]
    },
    {
     "name": "stderr",
     "output_type": "stream",
     "text": [
      "\n",
      "100%|██████████| 990/990 [00:20<00:00, 47.26it/s]"
     ]
    },
    {
     "name": "stdout",
     "output_type": "stream",
     "text": [
      "Epoch: 22 | Train loss: 3.7977 | Train acc: 15.0364 %\n"
     ]
    },
    {
     "name": "stderr",
     "output_type": "stream",
     "text": [
      "\n",
      "100%|██████████| 990/990 [00:12<00:00, 79.08it/s] "
     ]
    },
    {
     "name": "stdout",
     "output_type": "stream",
     "text": [
      "Epoch: 23 | Train loss: 3.7952 | Train acc: 15.2861 %\n"
     ]
    },
    {
     "name": "stderr",
     "output_type": "stream",
     "text": [
      "\n",
      "100%|██████████| 990/990 [00:16<00:00, 59.71it/s] "
     ]
    },
    {
     "name": "stdout",
     "output_type": "stream",
     "text": [
      "Epoch: 24 | Train loss: 3.7933 | Train acc: 15.4691 %\n"
     ]
    },
    {
     "name": "stderr",
     "output_type": "stream",
     "text": [
      "\n",
      "100%|██████████| 990/990 [00:12<00:00, 77.31it/s] "
     ]
    },
    {
     "name": "stdout",
     "output_type": "stream",
     "text": [
      "Epoch: 25 | Train loss: 3.7910 | Train acc: 15.6415 %\n"
     ]
    },
    {
     "name": "stderr",
     "output_type": "stream",
     "text": [
      "\n",
      "100%|██████████| 990/990 [00:16<00:00, 58.84it/s] "
     ]
    },
    {
     "name": "stdout",
     "output_type": "stream",
     "text": [
      "Epoch: 26 | Train loss: 3.7889 | Train acc: 15.8283 %\n"
     ]
    },
    {
     "name": "stderr",
     "output_type": "stream",
     "text": [
      "\n",
      "100%|██████████| 990/990 [00:14<00:00, 70.32it/s] "
     ]
    },
    {
     "name": "stdout",
     "output_type": "stream",
     "text": [
      "Epoch: 27 | Train loss: 3.7865 | Train acc: 16.1380 %\n"
     ]
    },
    {
     "name": "stderr",
     "output_type": "stream",
     "text": [
      "\n",
      "100%|██████████| 990/990 [00:15<00:00, 62.52it/s] "
     ]
    },
    {
     "name": "stdout",
     "output_type": "stream",
     "text": [
      "Epoch: 28 | Train loss: 3.7844 | Train acc: 16.3021 %\n"
     ]
    },
    {
     "name": "stderr",
     "output_type": "stream",
     "text": [
      "\n",
      "100%|██████████| 990/990 [00:13<00:00, 72.52it/s] "
     ]
    },
    {
     "name": "stdout",
     "output_type": "stream",
     "text": [
      "Epoch: 29 | Train loss: 3.7826 | Train acc: 16.5591 %\n"
     ]
    },
    {
     "name": "stderr",
     "output_type": "stream",
     "text": [
      "\n",
      "100%|██████████| 990/990 [00:12<00:00, 77.90it/s] "
     ]
    },
    {
     "name": "stdout",
     "output_type": "stream",
     "text": [
      "Epoch: 30 | Train loss: 3.7788 | Train acc: 16.9786 %\n"
     ]
    },
    {
     "name": "stderr",
     "output_type": "stream",
     "text": [
      "\n"
     ]
    }
   ],
   "source": [
    "model = LeNet5().to(device)\n",
    "EPOCHS = 30\n",
    "# Define the loss function and optimizer\n",
    "criterion = nn.CrossEntropyLoss()\n",
    "# optimizer = optim.SGD(model.parameters(), lr=1e-3)\n",
    "optimizer = optim.Adam(model.parameters(), lr=1e-3)\n",
    "\n",
    "def compute_accuracy(predictions, labels):\n",
    "    # Compare predicted labels with ground truth labels\n",
    "    # correct = (predictions == labels).sum().item()\n",
    "    correct = torch.eq(predictions, labels).sum().item()\n",
    "    # Calculate accuracy\n",
    "    accuracy = correct / labels.size(0) * 100\n",
    "    return accuracy\n",
    "\n",
    "def train(model, train_dataloader, val_dataloader, loss_fcn, optimizer, n_epochs):\n",
    "    train_loss_list = []\n",
    "    train_acc_list = []\n",
    "    val_loss_list = []\n",
    "    val_acc_list = []\n",
    "\n",
    "    for epoch in range(n_epochs):\n",
    "        train_loss, val_loss = 0.0, 0.0\n",
    "        train_acc, val_acc = 0.0, 0.0\n",
    "\n",
    "        # Training\n",
    "        model.train()\n",
    "        with tqdm(total=len(train_dataloader)) as pbar:\n",
    "            for imgs, labels in train_dataloader:\n",
    "                imgs, labels = imgs.to(device), labels.type(torch.LongTensor).to(device)\n",
    "                # Forward pass\n",
    "                outputs = model(imgs)  # Tensor\n",
    "                preds = torch.argmax(outputs, dim=1)  # Tensor\n",
    "                train_acc += compute_accuracy(preds, labels)\n",
    "                # Compute loss\n",
    "                loss = loss_fcn(outputs, labels)\n",
    "                train_loss += loss\n",
    "                # Backward propagation\n",
    "                optimizer.zero_grad()\n",
    "                loss.backward()\n",
    "                # Gradient descent\n",
    "                optimizer.step()\n",
    "                # Update tqdm progress bar\n",
    "                pbar.update(1)\n",
    "\n",
    "        train_loss /= len(train_dataloader)\n",
    "        train_acc /= len(train_dataloader)\n",
    "        train_loss_list.append(train_loss)\n",
    "        train_acc_list.append(train_acc)\n",
    "        # Print training loss and training accuracy for every some epochs\n",
    "        if epoch % 1 == 0:\n",
    "            print(f\"Epoch: {epoch + 1} | Train loss: {train_loss:.4f} | Train acc: {train_acc:.4f} %\")\n",
    "\n",
    "        # Validation\n",
    "        model.eval()\n",
    "        with torch.inference_mode():\n",
    "            for X, y in val_dataloader:\n",
    "                X, y = X.to(device), y.type(torch.LongTensor).to(device)\n",
    "                val_prob = model(X)\n",
    "                val_pred = torch.argmax(val_prob, dim=1)\n",
    "\n",
    "                val_loss += loss_fcn(val_prob, y)\n",
    "                val_acc += compute_accuracy(val_pred, y)\n",
    "\n",
    "            val_loss /= len(val_dataloader)\n",
    "            val_acc /= len(val_dataloader)\n",
    "            val_loss_list.append(val_loss)\n",
    "            val_acc_list.append(val_acc)\n",
    "\n",
    "    return train_loss_list, train_acc_list, val_loss_list, val_acc_list\n",
    "\n",
    "\n",
    "train_loss_list, train_acc_list, val_loss_list, val_acc_list = train(model=model,\n",
    "                                                                     train_dataloader=train_dataloader,\n",
    "                                                                     val_dataloader=val_dataloader,\n",
    "                                                                     loss_fcn=criterion,\n",
    "                                                                     optimizer=optimizer,\n",
    "                                                                     n_epochs=EPOCHS)\n"
   ]
  },
  {
   "cell_type": "code",
   "execution_count": 14,
   "metadata": {},
   "outputs": [],
   "source": [
    "# save params\n",
    "# weights = model.get_params()\n",
    "# with open(\"pytorch_model.pkl\",\"wb\") as f:\n",
    "# \tpickle.dump(weights, f)\n",
    "torch.save(model.state_dict(), './model/pytorch_model.pt')\n",
    "\n",
    "# train_loss_list = [x.cpu().item() for x in train_loss_list]\n",
    "# val_loss_list = [x.cpu().item() for x in val_loss_list]\n",
    "# train_acc_list = [x.cpu().item() for x in train_acc_list]\n",
    "# val_acc_list = [x.cpu().item() for x in val_acc_list]\n",
    "# train_loss_list = np.array(train_loss_list).tolist()\n",
    "# val_loss_list = np.array(val_loss_list).tolist()\n",
    "# train_acc_list = np.array(train_acc_list).tolist()\n",
    "# val_acc_list = np.array(val_acc_list).tolist()\n",
    "# save loss, accuracy\n",
    "# with open(\"./loss/pytorch_model_train_loss.txt\", \"w\") as fp:\n",
    "# \tjson.dump(train_loss_list, fp)\n",
    "# with open(\"./loss/pytorch_model_val_loss.txt\", \"w\") as fp:\n",
    "# \tjson.dump(val_loss_list, fp)\n",
    "# with open(\"./acc/pytorch_model_train_acc.txt\", \"w\") as fp:\n",
    "# \tjson.dump(train_acc_list, fp)\n",
    "# with open(\"./acc/pytorch_model_val_acc.txt\", \"w\") as fp:\n",
    "# \tjson.dump(val_acc_list, fp)\n"
   ]
  },
  {
   "cell_type": "code",
   "execution_count": null,
   "metadata": {},
   "outputs": [],
   "source": [
    "# load params\n",
    "# with open(\"pytorch_model.pkll\", \"rb\") as f:\n",
    "# \tmodel.set_params(params=pickle.load(f))\n",
    "model = LeNet5()\n",
    "model.load_state_dict(torch.load('./model/pytorch_model.pt')).to(device)\n",
    "\n",
    "# load loss, accuracy\n",
    "with open(\"./loss/pytorch_model_train_loss.txt\", \"r\") as fp:\n",
    "\ttrain_loss_list = json.load(fp)\n",
    "with open(\"./loss/pytorch_model_val_loss.txt\", \"r\") as fp:\n",
    "\tval_loss_list = json.load(fp)\n",
    "with open(\"./acc/pytorch_model_train_acc.txt\", \"r\") as fp:\n",
    "\ttrain_acc_list = json.load(fp)\n",
    "with open(\"./acc/pytorch_model_val_acc.txt\", \"r\") as fp:\n",
    "\tval_acc_list = json.load(fp)"
   ]
  },
  {
   "cell_type": "code",
   "execution_count": 15,
   "metadata": {},
   "outputs": [
    {
     "data": {
      "image/png": "[encoded data removed]",
      "text/plain": [
       "<matplotlib.figure.Figure at 0x7f4c14f2ff60>"
      ]
     },
     "metadata": {
      "needs_background": "light"
     },
     "output_type": "display_data"
    },
    {
     "data": {
      "image/png": "[encoded data removed]",
      "text/plain": [
       "<matplotlib.figure.Figure at 0x7f4c14f2f630>"
      ]
     },
     "metadata": {
      "needs_background": "light"
     },
     "output_type": "display_data"
    }
   ],
   "source": [
    "def draw_losses(train_losses=None, val_losses=None, test_losses=None):\n",
    "    if train_losses!=None:\n",
    "        plt.plot(np.arange(EPOCHS), train_losses, label='Training Loss')\n",
    "    if val_losses!=None:\n",
    "        plt.plot(np.arange(EPOCHS), val_losses, label='Validation Loss')\n",
    "    if test_losses!=None:    \n",
    "        plt.plot(np.arange(EPOCHS), test_losses, label='Test Loss')\n",
    "    plt.title('Loss')\n",
    "    plt.xlabel('Epoch')\n",
    "    plt.ylabel('Loss')\n",
    "    plt.legend()\n",
    "    plt.savefig('./pic/pytorch_model_loss.png')\n",
    "    plt.show()\n",
    "    \n",
    "def draw_accuracy(train_acc=None, val_acc=None, test_acc=None):\n",
    "    if train_acc!=None:\n",
    "        plt.plot(np.arange(EPOCHS), train_acc, label='Training Accuracy')\n",
    "    if val_acc!=None:\n",
    "        plt.plot(np.arange(EPOCHS), val_acc, label='Validation Accuracy')\n",
    "    if test_acc!=None:    \n",
    "        plt.plot(np.arange(EPOCHS), test_acc, label='Test Accuracy')\n",
    "    plt.title('Accuracy')\n",
    "    plt.xlabel('Epoch')\n",
    "    plt.ylabel('Accuracy')\n",
    "    plt.legend()\n",
    "    plt.savefig('./pic/pytorch_model_acc.png')\n",
    "    plt.show()\n",
    "    \n",
    "draw_losses(train_losses=train_loss_list, val_losses=val_loss_list)\n",
    "draw_accuracy(train_acc=train_acc_list, val_acc=val_acc_list)"
   ]
  },
  {
   "cell_type": "code",
   "execution_count": 18,
   "metadata": {},
   "outputs": [
    {
     "data": {
      "text/plain": [
       "LeNet5(\n",
       "  (conv1): Conv2d(3, 6, kernel_size=(5, 5), stride=(1, 1))\n",
       "  (activ1): Sigmoid()\n",
       "  (pool1): MaxPool2d(kernel_size=2, stride=2, padding=0, dilation=1, ceil_mode=False)\n",
       "  (conv2): Conv2d(6, 16, kernel_size=(5, 5), stride=(1, 1))\n",
       "  (activ2): Sigmoid()\n",
       "  (pool2): MaxPool2d(kernel_size=2, stride=2, padding=0, dilation=1, ceil_mode=False)\n",
       "  (fc1): Linear(in_features=400, out_features=120, bias=True)\n",
       "  (activ3): Sigmoid()\n",
       "  (fc2): Linear(in_features=120, out_features=84, bias=True)\n",
       "  (activ4): Sigmoid()\n",
       "  (fc3): Linear(in_features=84, out_features=50, bias=True)\n",
       "  (softmax): Softmax(dim=1)\n",
       ")"
      ]
     },
     "execution_count": 18,
     "metadata": {},
     "output_type": "execute_result"
    }
   ],
   "source": [
    "model = LeNet5()\n",
    "model.load_state_dict(torch.load('./model/pytorch_model.pt'))\n",
    "model.to(device)"
   ]
  },
  {
   "cell_type": "code",
   "execution_count": 21,
   "metadata": {},
   "outputs": [
    {
     "name": "stdout",
     "output_type": "stream",
     "text": [
      "Validation acc: 14.0000 %\n"
     ]
    }
   ],
   "source": [
    "# predict validation set\n",
    "def compute_accuracy(predictions, labels):\n",
    "    # Compare predicted labels with ground truth labels\n",
    "    # correct = (predictions == labels).sum().item()\n",
    "    correct = torch.eq(predictions, labels).sum().item()\n",
    "    # Calculate accuracy\n",
    "    accuracy = correct / labels.size(0) * 100\n",
    "    return accuracy\n",
    "\n",
    "pred_label = torch.argmax(model(X_val.to(device)), dim=1)\n",
    "print(f\"Validation acc: {compute_accuracy(pred_label.cpu(), Y_val):.4f} %\")"
   ]
  },
  {
   "cell_type": "code",
   "execution_count": 22,
   "metadata": {},
   "outputs": [
    {
     "name": "stdout",
     "output_type": "stream",
     "text": [
      "Test acc: 16.0000 %\n"
     ]
    }
   ],
   "source": [
    "# predict test dataset\n",
    "pred_label = torch.argmax(model(X_test.to(device)), dim=1)\n",
    "print(f\"Test acc: {compute_accuracy(pred_label.cpu(), Y_test):.4f} %\")"
   ]
  },
  {
   "attachments": {},
   "cell_type": "markdown",
   "metadata": {},
   "source": [
    "#### inference time"
   ]
  },
  {
   "cell_type": "code",
   "execution_count": 58,
   "metadata": {},
   "outputs": [
    {
     "name": "stdout",
     "output_type": "stream",
     "text": [
      "Inference time: 0.00215507 seconds\n"
     ]
    }
   ],
   "source": [
    "# inference time\n",
    "# Create the model\n",
    "net = LeNet5().to(device)\n",
    "# Create a sample input\n",
    "input_data = torch.randn(BATCH_SIZE, 3, 32, 32).to(device)  # Assuming input is a 3-channel 32x32 image\n",
    "# Enable evaluation mode\n",
    "net.eval()\n",
    "# Measure inference time\n",
    "start_time = time.time()\n",
    "output = net(input_data)\n",
    "# Calculate inference time\n",
    "inference_time = time.time() - start_time\n",
    "\n",
    "print(f\"Inference time: {inference_time:.8f} seconds\")\n"
   ]
  },
  {
   "attachments": {},
   "cell_type": "markdown",
   "metadata": {},
   "source": [
    "#### space complexity and FLOPS"
   ]
  },
  {
   "cell_type": "code",
   "execution_count": 25,
   "metadata": {},
   "outputs": [
    {
     "name": "stdout",
     "output_type": "stream",
     "text": [
      "[INFO] Register count_convNd() for <class 'torch.nn.modules.conv.Conv2d'>.\n",
      "[INFO] Register zero_ops() for <class 'torch.nn.modules.pooling.MaxPool2d'>.\n",
      "[INFO] Register count_linear() for <class 'torch.nn.modules.linear.Linear'>.\n",
      "[INFO] Register count_softmax() for <class 'torch.nn.modules.activation.Softmax'>.\n",
      "\n",
      "FLOPs: 167.738624 MFLOPs, params: 0.065406 M\n"
     ]
    }
   ],
   "source": [
    "# space complexity & FLOPS\n",
    "# https://www.zhihu.com/question/65305385\n",
    "# https://zhuanlan.zhihu.com/p/137719986\n",
    "# FLOPS：floating point operations per second，意指每秒浮点运算次数，理解为计算速度。是一个衡量硬件性能的指标\n",
    "# FLOPs：floating point operations的缩写（s表复数），意指浮点运算数，理解为计算量。可以用来衡量算法/模型的复杂度。\n",
    "# https://github.com/Lyken17/pytorch-OpCounter\n",
    "input = torch.randn(BATCH_SIZE, 3, 32, 32).to(device)\n",
    "macs, params = profile(model, inputs=(input, ))\n",
    "print()\n",
    "print(f\"FLOPs: {macs*2/1e6} MFLOPs, params: {params/1e6} M\")"
   ]
  },
  {
   "cell_type": "code",
   "execution_count": 41,
   "metadata": {},
   "outputs": [],
   "source": [
    "# with torch.cuda.device(0):\n",
    "#   net = LeNet5()\n",
    "#   macs, params = get_model_complexity_info(net, (3, 32, 32), as_strings=False,\n",
    "#                                            print_per_layer_stat=True, verbose=True)\n",
    "#   print('{:<30}  {:<8} KFLOPs'.format('Computational complexity: ', macs*2/1e3))\n",
    "#   print('{:<30}  {:<8} K'.format('Number of parameters: ', params/1e3))"
   ]
  },
  {
   "cell_type": "code",
   "execution_count": 30,
   "metadata": {},
   "outputs": [],
   "source": [
    "from torch.profiler import profile, record_function, ProfilerActivity\n",
    "\n",
    "with profile(activities=[ProfilerActivity.CPU, ProfilerActivity.CUDA], profile_memory=True, record_shapes=True) as prof:\n",
    "    with record_function(\"model_inference\"):\n",
    "        model(X_test.cuda())"
   ]
  },
  {
   "cell_type": "code",
   "execution_count": 31,
   "metadata": {},
   "outputs": [
    {
     "name": "stdout",
     "output_type": "stream",
     "text": [
      "-------------------------------------------------------  ------------  ------------  ------------  ------------  ------------  ------------  ------------  ------------  ------------  ------------  ------------  ------------  ------------  ------------  \n",
      "                                                   Name    Self CPU %      Self CPU   CPU total %     CPU total  CPU time avg     Self CUDA   Self CUDA %    CUDA total  CUDA time avg       CPU Mem  Self CPU Mem      CUDA Mem  Self CUDA Mem    # of Calls  \n",
      "-------------------------------------------------------  ------------  ------------  ------------  ------------  ------------  ------------  ------------  ------------  ------------  ------------  ------------  ------------  ------------  ------------  \n",
      "                                        model_inference         7.92%     592.000us        99.14%       7.413ms       7.413ms       0.000us         0.00%       1.602ms       1.602ms          -4 b         -20 b           0 b     -35.91 Mb             1  \n",
      "                                               aten::to         4.44%     332.000us        28.25%       2.112ms       2.112ms       0.000us         0.00%       1.190ms       1.190ms           0 b           0 b       5.27 Mb           0 b             1  \n",
      "                                         aten::_to_copy         0.39%      29.000us        23.81%       1.780ms       1.780ms       0.000us         0.00%       1.190ms       1.190ms           0 b           0 b       5.27 Mb           0 b             1  \n",
      "                                            aten::copy_         0.51%      38.000us        22.80%       1.705ms       1.705ms       1.190ms        74.28%       1.190ms       1.190ms           0 b           0 b           0 b           0 b             1  \n",
      "                       Memcpy HtoD (Pageable -> Device)         0.00%       0.000us         0.00%       0.000us       0.000us       1.190ms        74.28%       1.190ms       1.190ms           0 b           0 b           0 b           0 b             1  \n",
      "                                           aten::conv2d         0.27%      20.000us        53.18%       3.976ms       1.988ms       0.000us         0.00%     300.000us     150.000us           0 b           0 b      10.82 Mb           0 b             2  \n",
      "                                      aten::convolution         0.35%      26.000us        52.91%       3.956ms       1.978ms       0.000us         0.00%     300.000us     150.000us           0 b           0 b      10.82 Mb           0 b             2  \n",
      "                                     aten::_convolution         0.88%      66.000us        52.56%       3.930ms       1.965ms       0.000us         0.00%     300.000us     150.000us           0 b           0 b      10.82 Mb           0 b             2  \n",
      "                                aten::cudnn_convolution         3.92%     293.000us        49.81%       3.724ms       1.862ms     264.000us        16.48%     264.000us     132.000us           0 b           0 b      10.82 Mb      -5.01 Mb             2  \n",
      "                volta_scudnn_128x32_relu_interior_nn_v1         0.00%       0.000us         0.00%       0.000us       0.000us     177.000us        11.05%     177.000us     177.000us           0 b           0 b           0 b           0 b             1  \n",
      "-------------------------------------------------------  ------------  ------------  ------------  ------------  ------------  ------------  ------------  ------------  ------------  ------------  ------------  ------------  ------------  ------------  \n",
      "Self CPU time total: 7.477ms\n",
      "Self CUDA time total: 1.602ms\n",
      "\n"
     ]
    }
   ],
   "source": [
    "print(prof.key_averages().table(sort_by=\"cuda_time_total\", row_limit=10))"
   ]
  }
 ],
 "metadata": {
  "kernelspec": {
   "display_name": "base",
   "language": "python",
   "name": "python3"
  },
  "language_info": {
   "codemirror_mode": {
    "name": "ipython",
    "version": 3
   },
   "file_extension": ".py",
   "mimetype": "text/x-python",
   "name": "python",
   "nbconvert_exporter": "python",
   "pygments_lexer": "ipython3",
   "version": "3.6.9"
  },
  "orig_nbformat": 4
 },
 "nbformat": 4,
 "nbformat_minor": 2
}
